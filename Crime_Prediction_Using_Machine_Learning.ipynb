{
  "cells": [
    {
      "cell_type": "code",
      "execution_count": 1,
      "metadata": {
        "colab": {
          "base_uri": "https://localhost:8080/"
        },
        "id": "vNCLcVBnJ88P",
        "outputId": "ff5edd35-8316-4105-99a3-e89dad50d0b7",
        "scrolled": true
      },
      "outputs": [
        {
          "output_type": "stream",
          "name": "stdout",
          "text": [
            "Looking in indexes: https://pypi.org/simple, https://us-python.pkg.dev/colab-wheels/public/simple/\n",
            "Collecting category_encoders\n",
            "  Downloading category_encoders-2.5.0-py2.py3-none-any.whl (69 kB)\n",
            "\u001b[K     |████████████████████████████████| 69 kB 2.5 MB/s \n",
            "\u001b[?25hRequirement already satisfied: patsy>=0.5.1 in /usr/local/lib/python3.7/dist-packages (from category_encoders) (0.5.2)\n",
            "Requirement already satisfied: scipy>=1.0.0 in /usr/local/lib/python3.7/dist-packages (from category_encoders) (1.4.1)\n",
            "Requirement already satisfied: numpy>=1.14.0 in /usr/local/lib/python3.7/dist-packages (from category_encoders) (1.21.6)\n",
            "Requirement already satisfied: scikit-learn>=0.20.0 in /usr/local/lib/python3.7/dist-packages (from category_encoders) (1.0.2)\n",
            "Requirement already satisfied: statsmodels>=0.9.0 in /usr/local/lib/python3.7/dist-packages (from category_encoders) (0.10.2)\n",
            "Requirement already satisfied: pandas>=1.0.5 in /usr/local/lib/python3.7/dist-packages (from category_encoders) (1.3.5)\n",
            "Requirement already satisfied: pytz>=2017.3 in /usr/local/lib/python3.7/dist-packages (from pandas>=1.0.5->category_encoders) (2022.1)\n",
            "Requirement already satisfied: python-dateutil>=2.7.3 in /usr/local/lib/python3.7/dist-packages (from pandas>=1.0.5->category_encoders) (2.8.2)\n",
            "Requirement already satisfied: six in /usr/local/lib/python3.7/dist-packages (from patsy>=0.5.1->category_encoders) (1.15.0)\n",
            "Requirement already satisfied: joblib>=0.11 in /usr/local/lib/python3.7/dist-packages (from scikit-learn>=0.20.0->category_encoders) (1.1.0)\n",
            "Requirement already satisfied: threadpoolctl>=2.0.0 in /usr/local/lib/python3.7/dist-packages (from scikit-learn>=0.20.0->category_encoders) (3.1.0)\n",
            "Installing collected packages: category-encoders\n",
            "Successfully installed category-encoders-2.5.0\n"
          ]
        }
      ],
      "source": [
        "pip install category_encoders"
      ]
    },
    {
      "cell_type": "code",
      "execution_count": 2,
      "metadata": {
        "colab": {
          "base_uri": "https://localhost:8080/"
        },
        "id": "3FzwG_nVJ88e",
        "outputId": "050d63c9-41cb-4c97-85da-d417c760c7fe"
      },
      "outputs": [
        {
          "output_type": "stream",
          "name": "stderr",
          "text": [
            "/usr/local/lib/python3.7/dist-packages/statsmodels/tools/_testing.py:19: FutureWarning: pandas.util.testing is deprecated. Use the functions in the public API at pandas.testing instead.\n",
            "  import pandas.util.testing as tm\n"
          ]
        },
        {
          "output_type": "stream",
          "name": "stdout",
          "text": [
            "Mounted at /content/drive\n"
          ]
        }
      ],
      "source": [
        "import pandas as pd\n",
        "import numpy as np\n",
        "import random\n",
        "import category_encoders as ce\n",
        "from google.colab import drive\n",
        "drive.mount('/content/drive')"
      ]
    },
    {
      "cell_type": "code",
      "execution_count": 3,
      "metadata": {
        "id": "hbsEki-eJ88g",
        "scrolled": true,
        "colab": {
          "base_uri": "https://localhost:8080/"
        },
        "outputId": "5821fe18-843b-43e5-f5c8-f422aff36be8"
      },
      "outputs": [
        {
          "output_type": "stream",
          "name": "stderr",
          "text": [
            "/usr/local/lib/python3.7/dist-packages/IPython/core/interactiveshell.py:2882: DtypeWarning: Columns (18,20) have mixed types.Specify dtype option on import or set low_memory=False.\n",
            "  exec(code_obj, self.user_global_ns, self.user_ns)\n"
          ]
        }
      ],
      "source": [
        "df = pd.read_csv('/content/drive/MyDrive/NYPD_Complaint_Data_Historic.csv')"
      ]
    },
    {
      "cell_type": "code",
      "execution_count": 4,
      "metadata": {
        "colab": {
          "base_uri": "https://localhost:8080/"
        },
        "id": "o-2xoFbiJ88h",
        "outputId": "787772f5-dbda-4bc8-8b7f-f8becbba5825",
        "scrolled": true
      },
      "outputs": [
        {
          "output_type": "stream",
          "name": "stdout",
          "text": [
            "<class 'pandas.core.frame.DataFrame'>\n",
            "RangeIndex: 6983207 entries, 0 to 6983206\n",
            "Data columns (total 35 columns):\n",
            " #   Column             Dtype  \n",
            "---  ------             -----  \n",
            " 0   CMPLNT_NUM         int64  \n",
            " 1   CMPLNT_FR_DT       object \n",
            " 2   CMPLNT_FR_TM       object \n",
            " 3   CMPLNT_TO_DT       object \n",
            " 4   CMPLNT_TO_TM       object \n",
            " 5   ADDR_PCT_CD        float64\n",
            " 6   RPT_DT             object \n",
            " 7   KY_CD              int64  \n",
            " 8   OFNS_DESC          object \n",
            " 9   PD_CD              float64\n",
            " 10  PD_DESC            object \n",
            " 11  CRM_ATPT_CPTD_CD   object \n",
            " 12  LAW_CAT_CD         object \n",
            " 13  BORO_NM            object \n",
            " 14  LOC_OF_OCCUR_DESC  object \n",
            " 15  PREM_TYP_DESC      object \n",
            " 16  JURIS_DESC         object \n",
            " 17  JURISDICTION_CODE  float64\n",
            " 18  PARKS_NM           object \n",
            " 19  HADEVELOPT         object \n",
            " 20  HOUSING_PSA        object \n",
            " 21  X_COORD_CD         float64\n",
            " 22  Y_COORD_CD         float64\n",
            " 23  SUSP_AGE_GROUP     object \n",
            " 24  SUSP_RACE          object \n",
            " 25  SUSP_SEX           object \n",
            " 26  TRANSIT_DISTRICT   float64\n",
            " 27  Latitude           float64\n",
            " 28  Longitude          float64\n",
            " 29  Lat_Lon            object \n",
            " 30  PATROL_BORO        object \n",
            " 31  STATION_NAME       object \n",
            " 32  VIC_AGE_GROUP      object \n",
            " 33  VIC_RACE           object \n",
            " 34  VIC_SEX            object \n",
            "dtypes: float64(8), int64(2), object(25)\n",
            "memory usage: 1.8+ GB\n"
          ]
        }
      ],
      "source": [
        "df.info()\n"
      ]
    },
    {
      "cell_type": "code",
      "execution_count": 5,
      "metadata": {
        "colab": {
          "base_uri": "https://localhost:8080/",
          "height": 508
        },
        "id": "VaYtMcGYJ88h",
        "outputId": "4c37985f-2236-4292-d7d8-9341baf5a445"
      },
      "outputs": [
        {
          "output_type": "execute_result",
          "data": {
            "text/plain": [
              "   CMPLNT_NUM CMPLNT_FR_DT CMPLNT_FR_TM CMPLNT_TO_DT CMPLNT_TO_TM  \\\n",
              "0   700381962   05/28/2015     15:00:00          NaN          NaN   \n",
              "1   642234217   10/28/2013     13:50:00   10/28/2013     13:50:00   \n",
              "2   242465164   05/09/2012     20:50:00   05/09/2012     21:00:00   \n",
              "3   927207428   01/03/2014     13:30:00   01/03/2014     13:35:00   \n",
              "4   492142357   04/13/2016     00:00:00          NaN          NaN   \n",
              "\n",
              "   ADDR_PCT_CD      RPT_DT  KY_CD                       OFNS_DESC  PD_CD  ...  \\\n",
              "0         46.0  06/01/2015    578                   HARRASSMENT 2  638.0  ...   \n",
              "1        120.0  10/28/2013    351  CRIMINAL MISCHIEF & RELATED OF  259.0  ...   \n",
              "2         24.0  05/09/2012    236               DANGEROUS WEAPONS  782.0  ...   \n",
              "3        108.0  01/03/2014    109                   GRAND LARCENY  409.0  ...   \n",
              "4         40.0  04/13/2016    351  CRIMINAL MISCHIEF & RELATED OF  258.0  ...   \n",
              "\n",
              "  SUSP_SEX TRANSIT_DISTRICT   Latitude  Longitude  \\\n",
              "0        M              NaN  40.845868 -73.915888   \n",
              "1      NaN              NaN  40.627061 -74.077149   \n",
              "2      NaN              NaN  40.800966 -73.969047   \n",
              "3        M              NaN  40.745242 -73.894253   \n",
              "4      NaN              NaN  40.810352 -73.924942   \n",
              "\n",
              "                         Lat_Lon                PATROL_BORO STATION_NAME  \\\n",
              "0   (40.84586773, -73.915888033)          PATROL BORO BRONX          NaN   \n",
              "1  (40.627060894, -74.077149232)  PATROL BORO STATEN ISLAND          NaN   \n",
              "2  (40.800965968, -73.969047272)      PATROL BORO MAN NORTH          NaN   \n",
              "3  (40.745241809, -73.894253382)   PATROL BORO QUEENS NORTH          NaN   \n",
              "4  (40.810351863, -73.924942326)          PATROL BORO BRONX          NaN   \n",
              "\n",
              "   VIC_AGE_GROUP                  VIC_RACE VIC_SEX  \n",
              "0          25-44            WHITE HISPANIC       F  \n",
              "1          45-64                     WHITE       M  \n",
              "2            NaN                   UNKNOWN       E  \n",
              "3          45-64  ASIAN / PACIFIC ISLANDER       M  \n",
              "4        UNKNOWN                   UNKNOWN       E  \n",
              "\n",
              "[5 rows x 35 columns]"
            ],
            "text/html": [
              "\n",
              "  <div id=\"df-9d41dbe7-8a5d-40ff-b3bd-483ecd090af8\">\n",
              "    <div class=\"colab-df-container\">\n",
              "      <div>\n",
              "<style scoped>\n",
              "    .dataframe tbody tr th:only-of-type {\n",
              "        vertical-align: middle;\n",
              "    }\n",
              "\n",
              "    .dataframe tbody tr th {\n",
              "        vertical-align: top;\n",
              "    }\n",
              "\n",
              "    .dataframe thead th {\n",
              "        text-align: right;\n",
              "    }\n",
              "</style>\n",
              "<table border=\"1\" class=\"dataframe\">\n",
              "  <thead>\n",
              "    <tr style=\"text-align: right;\">\n",
              "      <th></th>\n",
              "      <th>CMPLNT_NUM</th>\n",
              "      <th>CMPLNT_FR_DT</th>\n",
              "      <th>CMPLNT_FR_TM</th>\n",
              "      <th>CMPLNT_TO_DT</th>\n",
              "      <th>CMPLNT_TO_TM</th>\n",
              "      <th>ADDR_PCT_CD</th>\n",
              "      <th>RPT_DT</th>\n",
              "      <th>KY_CD</th>\n",
              "      <th>OFNS_DESC</th>\n",
              "      <th>PD_CD</th>\n",
              "      <th>...</th>\n",
              "      <th>SUSP_SEX</th>\n",
              "      <th>TRANSIT_DISTRICT</th>\n",
              "      <th>Latitude</th>\n",
              "      <th>Longitude</th>\n",
              "      <th>Lat_Lon</th>\n",
              "      <th>PATROL_BORO</th>\n",
              "      <th>STATION_NAME</th>\n",
              "      <th>VIC_AGE_GROUP</th>\n",
              "      <th>VIC_RACE</th>\n",
              "      <th>VIC_SEX</th>\n",
              "    </tr>\n",
              "  </thead>\n",
              "  <tbody>\n",
              "    <tr>\n",
              "      <th>0</th>\n",
              "      <td>700381962</td>\n",
              "      <td>05/28/2015</td>\n",
              "      <td>15:00:00</td>\n",
              "      <td>NaN</td>\n",
              "      <td>NaN</td>\n",
              "      <td>46.0</td>\n",
              "      <td>06/01/2015</td>\n",
              "      <td>578</td>\n",
              "      <td>HARRASSMENT 2</td>\n",
              "      <td>638.0</td>\n",
              "      <td>...</td>\n",
              "      <td>M</td>\n",
              "      <td>NaN</td>\n",
              "      <td>40.845868</td>\n",
              "      <td>-73.915888</td>\n",
              "      <td>(40.84586773, -73.915888033)</td>\n",
              "      <td>PATROL BORO BRONX</td>\n",
              "      <td>NaN</td>\n",
              "      <td>25-44</td>\n",
              "      <td>WHITE HISPANIC</td>\n",
              "      <td>F</td>\n",
              "    </tr>\n",
              "    <tr>\n",
              "      <th>1</th>\n",
              "      <td>642234217</td>\n",
              "      <td>10/28/2013</td>\n",
              "      <td>13:50:00</td>\n",
              "      <td>10/28/2013</td>\n",
              "      <td>13:50:00</td>\n",
              "      <td>120.0</td>\n",
              "      <td>10/28/2013</td>\n",
              "      <td>351</td>\n",
              "      <td>CRIMINAL MISCHIEF &amp; RELATED OF</td>\n",
              "      <td>259.0</td>\n",
              "      <td>...</td>\n",
              "      <td>NaN</td>\n",
              "      <td>NaN</td>\n",
              "      <td>40.627061</td>\n",
              "      <td>-74.077149</td>\n",
              "      <td>(40.627060894, -74.077149232)</td>\n",
              "      <td>PATROL BORO STATEN ISLAND</td>\n",
              "      <td>NaN</td>\n",
              "      <td>45-64</td>\n",
              "      <td>WHITE</td>\n",
              "      <td>M</td>\n",
              "    </tr>\n",
              "    <tr>\n",
              "      <th>2</th>\n",
              "      <td>242465164</td>\n",
              "      <td>05/09/2012</td>\n",
              "      <td>20:50:00</td>\n",
              "      <td>05/09/2012</td>\n",
              "      <td>21:00:00</td>\n",
              "      <td>24.0</td>\n",
              "      <td>05/09/2012</td>\n",
              "      <td>236</td>\n",
              "      <td>DANGEROUS WEAPONS</td>\n",
              "      <td>782.0</td>\n",
              "      <td>...</td>\n",
              "      <td>NaN</td>\n",
              "      <td>NaN</td>\n",
              "      <td>40.800966</td>\n",
              "      <td>-73.969047</td>\n",
              "      <td>(40.800965968, -73.969047272)</td>\n",
              "      <td>PATROL BORO MAN NORTH</td>\n",
              "      <td>NaN</td>\n",
              "      <td>NaN</td>\n",
              "      <td>UNKNOWN</td>\n",
              "      <td>E</td>\n",
              "    </tr>\n",
              "    <tr>\n",
              "      <th>3</th>\n",
              "      <td>927207428</td>\n",
              "      <td>01/03/2014</td>\n",
              "      <td>13:30:00</td>\n",
              "      <td>01/03/2014</td>\n",
              "      <td>13:35:00</td>\n",
              "      <td>108.0</td>\n",
              "      <td>01/03/2014</td>\n",
              "      <td>109</td>\n",
              "      <td>GRAND LARCENY</td>\n",
              "      <td>409.0</td>\n",
              "      <td>...</td>\n",
              "      <td>M</td>\n",
              "      <td>NaN</td>\n",
              "      <td>40.745242</td>\n",
              "      <td>-73.894253</td>\n",
              "      <td>(40.745241809, -73.894253382)</td>\n",
              "      <td>PATROL BORO QUEENS NORTH</td>\n",
              "      <td>NaN</td>\n",
              "      <td>45-64</td>\n",
              "      <td>ASIAN / PACIFIC ISLANDER</td>\n",
              "      <td>M</td>\n",
              "    </tr>\n",
              "    <tr>\n",
              "      <th>4</th>\n",
              "      <td>492142357</td>\n",
              "      <td>04/13/2016</td>\n",
              "      <td>00:00:00</td>\n",
              "      <td>NaN</td>\n",
              "      <td>NaN</td>\n",
              "      <td>40.0</td>\n",
              "      <td>04/13/2016</td>\n",
              "      <td>351</td>\n",
              "      <td>CRIMINAL MISCHIEF &amp; RELATED OF</td>\n",
              "      <td>258.0</td>\n",
              "      <td>...</td>\n",
              "      <td>NaN</td>\n",
              "      <td>NaN</td>\n",
              "      <td>40.810352</td>\n",
              "      <td>-73.924942</td>\n",
              "      <td>(40.810351863, -73.924942326)</td>\n",
              "      <td>PATROL BORO BRONX</td>\n",
              "      <td>NaN</td>\n",
              "      <td>UNKNOWN</td>\n",
              "      <td>UNKNOWN</td>\n",
              "      <td>E</td>\n",
              "    </tr>\n",
              "  </tbody>\n",
              "</table>\n",
              "<p>5 rows × 35 columns</p>\n",
              "</div>\n",
              "      <button class=\"colab-df-convert\" onclick=\"convertToInteractive('df-9d41dbe7-8a5d-40ff-b3bd-483ecd090af8')\"\n",
              "              title=\"Convert this dataframe to an interactive table.\"\n",
              "              style=\"display:none;\">\n",
              "        \n",
              "  <svg xmlns=\"http://www.w3.org/2000/svg\" height=\"24px\"viewBox=\"0 0 24 24\"\n",
              "       width=\"24px\">\n",
              "    <path d=\"M0 0h24v24H0V0z\" fill=\"none\"/>\n",
              "    <path d=\"M18.56 5.44l.94 2.06.94-2.06 2.06-.94-2.06-.94-.94-2.06-.94 2.06-2.06.94zm-11 1L8.5 8.5l.94-2.06 2.06-.94-2.06-.94L8.5 2.5l-.94 2.06-2.06.94zm10 10l.94 2.06.94-2.06 2.06-.94-2.06-.94-.94-2.06-.94 2.06-2.06.94z\"/><path d=\"M17.41 7.96l-1.37-1.37c-.4-.4-.92-.59-1.43-.59-.52 0-1.04.2-1.43.59L10.3 9.45l-7.72 7.72c-.78.78-.78 2.05 0 2.83L4 21.41c.39.39.9.59 1.41.59.51 0 1.02-.2 1.41-.59l7.78-7.78 2.81-2.81c.8-.78.8-2.07 0-2.86zM5.41 20L4 18.59l7.72-7.72 1.47 1.35L5.41 20z\"/>\n",
              "  </svg>\n",
              "      </button>\n",
              "      \n",
              "  <style>\n",
              "    .colab-df-container {\n",
              "      display:flex;\n",
              "      flex-wrap:wrap;\n",
              "      gap: 12px;\n",
              "    }\n",
              "\n",
              "    .colab-df-convert {\n",
              "      background-color: #E8F0FE;\n",
              "      border: none;\n",
              "      border-radius: 50%;\n",
              "      cursor: pointer;\n",
              "      display: none;\n",
              "      fill: #1967D2;\n",
              "      height: 32px;\n",
              "      padding: 0 0 0 0;\n",
              "      width: 32px;\n",
              "    }\n",
              "\n",
              "    .colab-df-convert:hover {\n",
              "      background-color: #E2EBFA;\n",
              "      box-shadow: 0px 1px 2px rgba(60, 64, 67, 0.3), 0px 1px 3px 1px rgba(60, 64, 67, 0.15);\n",
              "      fill: #174EA6;\n",
              "    }\n",
              "\n",
              "    [theme=dark] .colab-df-convert {\n",
              "      background-color: #3B4455;\n",
              "      fill: #D2E3FC;\n",
              "    }\n",
              "\n",
              "    [theme=dark] .colab-df-convert:hover {\n",
              "      background-color: #434B5C;\n",
              "      box-shadow: 0px 1px 3px 1px rgba(0, 0, 0, 0.15);\n",
              "      filter: drop-shadow(0px 1px 2px rgba(0, 0, 0, 0.3));\n",
              "      fill: #FFFFFF;\n",
              "    }\n",
              "  </style>\n",
              "\n",
              "      <script>\n",
              "        const buttonEl =\n",
              "          document.querySelector('#df-9d41dbe7-8a5d-40ff-b3bd-483ecd090af8 button.colab-df-convert');\n",
              "        buttonEl.style.display =\n",
              "          google.colab.kernel.accessAllowed ? 'block' : 'none';\n",
              "\n",
              "        async function convertToInteractive(key) {\n",
              "          const element = document.querySelector('#df-9d41dbe7-8a5d-40ff-b3bd-483ecd090af8');\n",
              "          const dataTable =\n",
              "            await google.colab.kernel.invokeFunction('convertToInteractive',\n",
              "                                                     [key], {});\n",
              "          if (!dataTable) return;\n",
              "\n",
              "          const docLinkHtml = 'Like what you see? Visit the ' +\n",
              "            '<a target=\"_blank\" href=https://colab.research.google.com/notebooks/data_table.ipynb>data table notebook</a>'\n",
              "            + ' to learn more about interactive tables.';\n",
              "          element.innerHTML = '';\n",
              "          dataTable['output_type'] = 'display_data';\n",
              "          await google.colab.output.renderOutput(dataTable, element);\n",
              "          const docLink = document.createElement('div');\n",
              "          docLink.innerHTML = docLinkHtml;\n",
              "          element.appendChild(docLink);\n",
              "        }\n",
              "      </script>\n",
              "    </div>\n",
              "  </div>\n",
              "  "
            ]
          },
          "metadata": {},
          "execution_count": 5
        }
      ],
      "source": [
        "df.head()"
      ]
    },
    {
      "cell_type": "code",
      "execution_count": 6,
      "metadata": {
        "id": "IMUsD6P9J88i"
      },
      "outputs": [],
      "source": [
        "df = df[['CMPLNT_FR_DT','CMPLNT_FR_TM','VIC_SEX','VIC_RACE','VIC_AGE_GROUP','Latitude','Longitude','BORO_NM','OFNS_DESC','KY_CD']]"
      ]
    },
    {
      "cell_type": "code",
      "execution_count": 7,
      "metadata": {
        "id": "DiU7RQkkJ88j"
      },
      "outputs": [],
      "source": [
        "df = df.dropna()"
      ]
    },
    {
      "cell_type": "code",
      "execution_count": 8,
      "metadata": {
        "colab": {
          "base_uri": "https://localhost:8080/"
        },
        "id": "V-XfFkj-J88j",
        "outputId": "0706f3d9-d7b1-49f5-c32d-048ca4b374b7"
      },
      "outputs": [
        {
          "output_type": "stream",
          "name": "stdout",
          "text": [
            "<class 'pandas.core.frame.DataFrame'>\n",
            "Int64Index: 5309755 entries, 0 to 6983204\n",
            "Data columns (total 10 columns):\n",
            " #   Column         Dtype  \n",
            "---  ------         -----  \n",
            " 0   CMPLNT_FR_DT   object \n",
            " 1   CMPLNT_FR_TM   object \n",
            " 2   VIC_SEX        object \n",
            " 3   VIC_RACE       object \n",
            " 4   VIC_AGE_GROUP  object \n",
            " 5   Latitude       float64\n",
            " 6   Longitude      float64\n",
            " 7   BORO_NM        object \n",
            " 8   OFNS_DESC      object \n",
            " 9   KY_CD          int64  \n",
            "dtypes: float64(2), int64(1), object(7)\n",
            "memory usage: 445.6+ MB\n"
          ]
        }
      ],
      "source": [
        "df.info()"
      ]
    },
    {
      "cell_type": "code",
      "execution_count": 9,
      "metadata": {
        "id": "V8U2WMhvJ88k"
      },
      "outputs": [],
      "source": [
        "df['time'] = pd.to_datetime(df['CMPLNT_FR_TM'], format=\"%H:%M:%S\")"
      ]
    },
    {
      "cell_type": "code",
      "execution_count": 10,
      "metadata": {
        "id": "JScG5kkxJ88l"
      },
      "outputs": [],
      "source": [
        "df[\"hour\"] = df['time'].dt.hour"
      ]
    },
    {
      "cell_type": "code",
      "execution_count": 11,
      "metadata": {
        "id": "FVeFng-gJ88l"
      },
      "outputs": [],
      "source": [
        "df['Date'] = pd.to_datetime(df['CMPLNT_FR_DT'], errors = 'coerce')"
      ]
    },
    {
      "cell_type": "code",
      "execution_count": 13,
      "metadata": {
        "id": "ikn8dmw-J88m"
      },
      "outputs": [],
      "source": [
        "def downcast(df): \n",
        "    column = df.dtypes.index.tolist() \n",
        "    types = df.dtypes.values.tolist() \n",
        "    for i in range(len(types)):\n",
        "        if 'int' in str(types[i]): \n",
        "            if df[column[i]].min() > -128 and df[column[i]].max() < 128: df[column[i]] = df[column[i]].astype('int8') \n",
        "            elif df[column[i]].min() > -32768 and df[column[i]].max() < 32767: df[column[i]] = df[column[i]].astype('int16')\n",
        "            elif df[column[i]].min() > -2147483648 and df[column[i]].max() < 2147483647: df[column[i]] = df[column[i]].astype('int32')\n",
        "            else: df[column[i]] = df[column[i]].astype(np.int64) \n",
        "        elif 'float' in str(types[i]):\n",
        "            if df[column[i]].min() > np.finfo('float16').min and df[column[i]].max() < np.finfo('float16').max: df[column[i]] = df[column[i]].astype('float16') \n",
        "            elif df[column[i]].min() > np.finfo('float32').min and df[column[i]].max() < np.finfo('float32').max: df[column[i]] = df[column[i]].astype('float32')\n",
        "            else: df[column[i]] = df[column[i]].astype('float64') \n",
        "        elif types[i] == np.object:\n",
        "                if column[i] == 'date': df[column[i]] = pd.to_datetime(df[column[i]], format='%Y-%m-%d')\n",
        "                else: df[column[i]] = df[column[i]].astype('category') \n",
        "    return df  "
      ]
    },
    {
      "cell_type": "code",
      "execution_count": 14,
      "metadata": {
        "id": "49czfLOrJ88n",
        "colab": {
          "base_uri": "https://localhost:8080/"
        },
        "outputId": "a925fa0d-41cb-4af2-8455-3c841e8ee8f4"
      },
      "outputs": [
        {
          "output_type": "stream",
          "name": "stderr",
          "text": [
            "/usr/local/lib/python3.7/dist-packages/ipykernel_launcher.py:14: DeprecationWarning: `np.object` is a deprecated alias for the builtin `object`. To silence this warning, use `object` by itself. Doing this will not modify any behavior and is safe. \n",
            "Deprecated in NumPy 1.20; for more details and guidance: https://numpy.org/devdocs/release/1.20.0-notes.html#deprecations\n",
            "  \n"
          ]
        }
      ],
      "source": [
        "df = downcast(df)"
      ]
    },
    {
      "cell_type": "code",
      "execution_count": 15,
      "metadata": {
        "colab": {
          "base_uri": "https://localhost:8080/"
        },
        "id": "RMxsKSejJ88n",
        "outputId": "c977212f-8c5a-43b7-dd50-90c7556230ad",
        "scrolled": true
      },
      "outputs": [
        {
          "output_type": "stream",
          "name": "stderr",
          "text": [
            "/usr/local/lib/python3.7/dist-packages/ipykernel_launcher.py:1: FutureWarning: null_counts is deprecated. Use show_counts instead\n",
            "  \"\"\"Entry point for launching an IPython kernel.\n"
          ]
        },
        {
          "output_type": "stream",
          "name": "stdout",
          "text": [
            "<class 'pandas.core.frame.DataFrame'>\n",
            "Int64Index: 5309755 entries, 0 to 6983204\n",
            "Data columns (total 13 columns):\n",
            " #   Column         Non-Null Count    Dtype         \n",
            "---  ------         --------------    -----         \n",
            " 0   CMPLNT_FR_DT   5309755 non-null  category      \n",
            " 1   CMPLNT_FR_TM   5309755 non-null  category      \n",
            " 2   VIC_SEX        5309755 non-null  category      \n",
            " 3   VIC_RACE       5309755 non-null  category      \n",
            " 4   VIC_AGE_GROUP  5309755 non-null  category      \n",
            " 5   Latitude       5309755 non-null  float16       \n",
            " 6   Longitude      5309755 non-null  float16       \n",
            " 7   BORO_NM        5309755 non-null  category      \n",
            " 8   OFNS_DESC      5309755 non-null  category      \n",
            " 9   KY_CD          5309755 non-null  int16         \n",
            " 10  time           5309755 non-null  datetime64[ns]\n",
            " 11  hour           5309755 non-null  int8          \n",
            " 12  Date           5309614 non-null  datetime64[ns]\n",
            "dtypes: category(7), datetime64[ns](2), float16(2), int16(1), int8(1)\n",
            "memory usage: 208.0 MB\n"
          ]
        }
      ],
      "source": [
        "df.info(verbose = True, null_counts = True)"
      ]
    },
    {
      "cell_type": "code",
      "execution_count": 16,
      "metadata": {
        "id": "IeBaPK5XJ88o"
      },
      "outputs": [],
      "source": [
        "df_copy = df.copy()"
      ]
    },
    {
      "cell_type": "code",
      "execution_count": 17,
      "metadata": {
        "id": "OX4Ak61mJ88o"
      },
      "outputs": [],
      "source": [
        "df = df[df['Date'].notna()]"
      ]
    },
    {
      "cell_type": "code",
      "execution_count": 18,
      "metadata": {
        "colab": {
          "base_uri": "https://localhost:8080/",
          "height": 337
        },
        "id": "A89UVmIJJ88o",
        "outputId": "cb5c4e0c-685a-4def-e9ea-a48ddffbbaed"
      },
      "outputs": [
        {
          "output_type": "execute_result",
          "data": {
            "text/plain": [
              "  CMPLNT_FR_DT CMPLNT_FR_TM VIC_SEX                  VIC_RACE VIC_AGE_GROUP  \\\n",
              "0   05/28/2015     15:00:00       F            WHITE HISPANIC         25-44   \n",
              "1   10/28/2013     13:50:00       M                     WHITE         45-64   \n",
              "3   01/03/2014     13:30:00       M  ASIAN / PACIFIC ISLANDER         45-64   \n",
              "4   04/13/2016     00:00:00       E                   UNKNOWN       UNKNOWN   \n",
              "5   08/18/2014     14:30:00       F                     WHITE         18-24   \n",
              "\n",
              "   Latitude  Longitude        BORO_NM                       OFNS_DESC  KY_CD  \\\n",
              "0  40.84375   -73.9375          BRONX                   HARRASSMENT 2    578   \n",
              "1  40.62500   -74.0625  STATEN ISLAND  CRIMINAL MISCHIEF & RELATED OF    351   \n",
              "3  40.75000   -73.8750         QUEENS                   GRAND LARCENY    109   \n",
              "4  40.81250   -73.9375          BRONX  CRIMINAL MISCHIEF & RELATED OF    351   \n",
              "5  40.68750   -73.8750         QUEENS                   PETIT LARCENY    341   \n",
              "\n",
              "                 time  hour       Date  \n",
              "0 1900-01-01 15:00:00    15 2015-05-28  \n",
              "1 1900-01-01 13:50:00    13 2013-10-28  \n",
              "3 1900-01-01 13:30:00    13 2014-01-03  \n",
              "4 1900-01-01 00:00:00     0 2016-04-13  \n",
              "5 1900-01-01 14:30:00    14 2014-08-18  "
            ],
            "text/html": [
              "\n",
              "  <div id=\"df-20cd422c-5bbd-45c8-8577-d992f6a2935c\">\n",
              "    <div class=\"colab-df-container\">\n",
              "      <div>\n",
              "<style scoped>\n",
              "    .dataframe tbody tr th:only-of-type {\n",
              "        vertical-align: middle;\n",
              "    }\n",
              "\n",
              "    .dataframe tbody tr th {\n",
              "        vertical-align: top;\n",
              "    }\n",
              "\n",
              "    .dataframe thead th {\n",
              "        text-align: right;\n",
              "    }\n",
              "</style>\n",
              "<table border=\"1\" class=\"dataframe\">\n",
              "  <thead>\n",
              "    <tr style=\"text-align: right;\">\n",
              "      <th></th>\n",
              "      <th>CMPLNT_FR_DT</th>\n",
              "      <th>CMPLNT_FR_TM</th>\n",
              "      <th>VIC_SEX</th>\n",
              "      <th>VIC_RACE</th>\n",
              "      <th>VIC_AGE_GROUP</th>\n",
              "      <th>Latitude</th>\n",
              "      <th>Longitude</th>\n",
              "      <th>BORO_NM</th>\n",
              "      <th>OFNS_DESC</th>\n",
              "      <th>KY_CD</th>\n",
              "      <th>time</th>\n",
              "      <th>hour</th>\n",
              "      <th>Date</th>\n",
              "    </tr>\n",
              "  </thead>\n",
              "  <tbody>\n",
              "    <tr>\n",
              "      <th>0</th>\n",
              "      <td>05/28/2015</td>\n",
              "      <td>15:00:00</td>\n",
              "      <td>F</td>\n",
              "      <td>WHITE HISPANIC</td>\n",
              "      <td>25-44</td>\n",
              "      <td>40.84375</td>\n",
              "      <td>-73.9375</td>\n",
              "      <td>BRONX</td>\n",
              "      <td>HARRASSMENT 2</td>\n",
              "      <td>578</td>\n",
              "      <td>1900-01-01 15:00:00</td>\n",
              "      <td>15</td>\n",
              "      <td>2015-05-28</td>\n",
              "    </tr>\n",
              "    <tr>\n",
              "      <th>1</th>\n",
              "      <td>10/28/2013</td>\n",
              "      <td>13:50:00</td>\n",
              "      <td>M</td>\n",
              "      <td>WHITE</td>\n",
              "      <td>45-64</td>\n",
              "      <td>40.62500</td>\n",
              "      <td>-74.0625</td>\n",
              "      <td>STATEN ISLAND</td>\n",
              "      <td>CRIMINAL MISCHIEF &amp; RELATED OF</td>\n",
              "      <td>351</td>\n",
              "      <td>1900-01-01 13:50:00</td>\n",
              "      <td>13</td>\n",
              "      <td>2013-10-28</td>\n",
              "    </tr>\n",
              "    <tr>\n",
              "      <th>3</th>\n",
              "      <td>01/03/2014</td>\n",
              "      <td>13:30:00</td>\n",
              "      <td>M</td>\n",
              "      <td>ASIAN / PACIFIC ISLANDER</td>\n",
              "      <td>45-64</td>\n",
              "      <td>40.75000</td>\n",
              "      <td>-73.8750</td>\n",
              "      <td>QUEENS</td>\n",
              "      <td>GRAND LARCENY</td>\n",
              "      <td>109</td>\n",
              "      <td>1900-01-01 13:30:00</td>\n",
              "      <td>13</td>\n",
              "      <td>2014-01-03</td>\n",
              "    </tr>\n",
              "    <tr>\n",
              "      <th>4</th>\n",
              "      <td>04/13/2016</td>\n",
              "      <td>00:00:00</td>\n",
              "      <td>E</td>\n",
              "      <td>UNKNOWN</td>\n",
              "      <td>UNKNOWN</td>\n",
              "      <td>40.81250</td>\n",
              "      <td>-73.9375</td>\n",
              "      <td>BRONX</td>\n",
              "      <td>CRIMINAL MISCHIEF &amp; RELATED OF</td>\n",
              "      <td>351</td>\n",
              "      <td>1900-01-01 00:00:00</td>\n",
              "      <td>0</td>\n",
              "      <td>2016-04-13</td>\n",
              "    </tr>\n",
              "    <tr>\n",
              "      <th>5</th>\n",
              "      <td>08/18/2014</td>\n",
              "      <td>14:30:00</td>\n",
              "      <td>F</td>\n",
              "      <td>WHITE</td>\n",
              "      <td>18-24</td>\n",
              "      <td>40.68750</td>\n",
              "      <td>-73.8750</td>\n",
              "      <td>QUEENS</td>\n",
              "      <td>PETIT LARCENY</td>\n",
              "      <td>341</td>\n",
              "      <td>1900-01-01 14:30:00</td>\n",
              "      <td>14</td>\n",
              "      <td>2014-08-18</td>\n",
              "    </tr>\n",
              "  </tbody>\n",
              "</table>\n",
              "</div>\n",
              "      <button class=\"colab-df-convert\" onclick=\"convertToInteractive('df-20cd422c-5bbd-45c8-8577-d992f6a2935c')\"\n",
              "              title=\"Convert this dataframe to an interactive table.\"\n",
              "              style=\"display:none;\">\n",
              "        \n",
              "  <svg xmlns=\"http://www.w3.org/2000/svg\" height=\"24px\"viewBox=\"0 0 24 24\"\n",
              "       width=\"24px\">\n",
              "    <path d=\"M0 0h24v24H0V0z\" fill=\"none\"/>\n",
              "    <path d=\"M18.56 5.44l.94 2.06.94-2.06 2.06-.94-2.06-.94-.94-2.06-.94 2.06-2.06.94zm-11 1L8.5 8.5l.94-2.06 2.06-.94-2.06-.94L8.5 2.5l-.94 2.06-2.06.94zm10 10l.94 2.06.94-2.06 2.06-.94-2.06-.94-.94-2.06-.94 2.06-2.06.94z\"/><path d=\"M17.41 7.96l-1.37-1.37c-.4-.4-.92-.59-1.43-.59-.52 0-1.04.2-1.43.59L10.3 9.45l-7.72 7.72c-.78.78-.78 2.05 0 2.83L4 21.41c.39.39.9.59 1.41.59.51 0 1.02-.2 1.41-.59l7.78-7.78 2.81-2.81c.8-.78.8-2.07 0-2.86zM5.41 20L4 18.59l7.72-7.72 1.47 1.35L5.41 20z\"/>\n",
              "  </svg>\n",
              "      </button>\n",
              "      \n",
              "  <style>\n",
              "    .colab-df-container {\n",
              "      display:flex;\n",
              "      flex-wrap:wrap;\n",
              "      gap: 12px;\n",
              "    }\n",
              "\n",
              "    .colab-df-convert {\n",
              "      background-color: #E8F0FE;\n",
              "      border: none;\n",
              "      border-radius: 50%;\n",
              "      cursor: pointer;\n",
              "      display: none;\n",
              "      fill: #1967D2;\n",
              "      height: 32px;\n",
              "      padding: 0 0 0 0;\n",
              "      width: 32px;\n",
              "    }\n",
              "\n",
              "    .colab-df-convert:hover {\n",
              "      background-color: #E2EBFA;\n",
              "      box-shadow: 0px 1px 2px rgba(60, 64, 67, 0.3), 0px 1px 3px 1px rgba(60, 64, 67, 0.15);\n",
              "      fill: #174EA6;\n",
              "    }\n",
              "\n",
              "    [theme=dark] .colab-df-convert {\n",
              "      background-color: #3B4455;\n",
              "      fill: #D2E3FC;\n",
              "    }\n",
              "\n",
              "    [theme=dark] .colab-df-convert:hover {\n",
              "      background-color: #434B5C;\n",
              "      box-shadow: 0px 1px 3px 1px rgba(0, 0, 0, 0.15);\n",
              "      filter: drop-shadow(0px 1px 2px rgba(0, 0, 0, 0.3));\n",
              "      fill: #FFFFFF;\n",
              "    }\n",
              "  </style>\n",
              "\n",
              "      <script>\n",
              "        const buttonEl =\n",
              "          document.querySelector('#df-20cd422c-5bbd-45c8-8577-d992f6a2935c button.colab-df-convert');\n",
              "        buttonEl.style.display =\n",
              "          google.colab.kernel.accessAllowed ? 'block' : 'none';\n",
              "\n",
              "        async function convertToInteractive(key) {\n",
              "          const element = document.querySelector('#df-20cd422c-5bbd-45c8-8577-d992f6a2935c');\n",
              "          const dataTable =\n",
              "            await google.colab.kernel.invokeFunction('convertToInteractive',\n",
              "                                                     [key], {});\n",
              "          if (!dataTable) return;\n",
              "\n",
              "          const docLinkHtml = 'Like what you see? Visit the ' +\n",
              "            '<a target=\"_blank\" href=https://colab.research.google.com/notebooks/data_table.ipynb>data table notebook</a>'\n",
              "            + ' to learn more about interactive tables.';\n",
              "          element.innerHTML = '';\n",
              "          dataTable['output_type'] = 'display_data';\n",
              "          await google.colab.output.renderOutput(dataTable, element);\n",
              "          const docLink = document.createElement('div');\n",
              "          docLink.innerHTML = docLinkHtml;\n",
              "          element.appendChild(docLink);\n",
              "        }\n",
              "      </script>\n",
              "    </div>\n",
              "  </div>\n",
              "  "
            ]
          },
          "metadata": {},
          "execution_count": 18
        }
      ],
      "source": [
        "df.head()"
      ]
    },
    {
      "cell_type": "code",
      "execution_count": 19,
      "metadata": {
        "id": "pkNmzmqMJ88p"
      },
      "outputs": [],
      "source": [
        "df[\"month\"] = df['Date'].dt.month\n",
        "df[\"day_of_week\"] = df['Date'].dt.weekday"
      ]
    },
    {
      "cell_type": "code",
      "execution_count": 20,
      "metadata": {
        "colab": {
          "base_uri": "https://localhost:8080/"
        },
        "id": "p7ZFeF-gJ88p",
        "outputId": "5890b006-619e-4d51-c8ae-f7db17cbe233"
      },
      "outputs": [
        {
          "output_type": "execute_result",
          "data": {
            "text/plain": [
              "['25-44', '45-64', 'UNKNOWN', '18-24', '65+', ..., '1017', '-51', '972', '-59', '-5']\n",
              "Length: 196\n",
              "Categories (196, object): ['-1', '-2', '-3', '-32', ..., '983', '999', '<18', 'UNKNOWN']"
            ]
          },
          "metadata": {},
          "execution_count": 20
        }
      ],
      "source": [
        "df.VIC_AGE_GROUP.unique()"
      ]
    },
    {
      "cell_type": "code",
      "execution_count": 21,
      "metadata": {
        "id": "3lzM5_TLJ88q"
      },
      "outputs": [],
      "source": [
        "df.VIC_AGE_GROUP = df.VIC_AGE_GROUP.replace('UNKNOWN', np.nan)"
      ]
    },
    {
      "cell_type": "code",
      "execution_count": 22,
      "metadata": {
        "id": "qlINAHWCJ88q"
      },
      "outputs": [],
      "source": [
        "df = df.loc[df.VIC_AGE_GROUP.isin(['25-44','18-24','45-64','65+','<18'])]"
      ]
    },
    {
      "cell_type": "code",
      "execution_count": 23,
      "metadata": {
        "colab": {
          "base_uri": "https://localhost:8080/"
        },
        "id": "M5uJyNGKJ88r",
        "outputId": "0bc579c4-f0c4-4d0d-ad36-b3a98ed3b05b"
      },
      "outputs": [
        {
          "output_type": "execute_result",
          "data": {
            "text/plain": [
              "['25-44', '45-64', '18-24', '65+', '<18']\n",
              "Categories (195, object): ['-1', '-2', '-3', '-32', ..., '981', '983', '999', '<18']"
            ]
          },
          "metadata": {},
          "execution_count": 23
        }
      ],
      "source": [
        "df.VIC_AGE_GROUP.unique()"
      ]
    },
    {
      "cell_type": "code",
      "execution_count": 24,
      "metadata": {
        "colab": {
          "base_uri": "https://localhost:8080/"
        },
        "id": "0ci8cZ12J88r",
        "outputId": "160847f7-b800-4a4a-fa81-5d3621b36c52"
      },
      "outputs": [
        {
          "output_type": "stream",
          "name": "stdout",
          "text": [
            "<class 'pandas.core.frame.DataFrame'>\n",
            "Int64Index: 4720543 entries, 0 to 6983204\n",
            "Data columns (total 15 columns):\n",
            " #   Column         Non-Null Count    Dtype         \n",
            "---  ------         --------------    -----         \n",
            " 0   CMPLNT_FR_DT   4720543 non-null  category      \n",
            " 1   CMPLNT_FR_TM   4720543 non-null  category      \n",
            " 2   VIC_SEX        4720543 non-null  category      \n",
            " 3   VIC_RACE       4720543 non-null  category      \n",
            " 4   VIC_AGE_GROUP  4720543 non-null  category      \n",
            " 5   Latitude       4720543 non-null  float16       \n",
            " 6   Longitude      4720543 non-null  float16       \n",
            " 7   BORO_NM        4720543 non-null  category      \n",
            " 8   OFNS_DESC      4720543 non-null  category      \n",
            " 9   KY_CD          4720543 non-null  int16         \n",
            " 10  time           4720543 non-null  datetime64[ns]\n",
            " 11  hour           4720543 non-null  int8          \n",
            " 12  Date           4720543 non-null  datetime64[ns]\n",
            " 13  month          4720543 non-null  int64         \n",
            " 14  day_of_week    4720543 non-null  int64         \n",
            "dtypes: category(7), datetime64[ns](2), float16(2), int16(1), int64(2), int8(1)\n",
            "memory usage: 257.0 MB\n"
          ]
        },
        {
          "output_type": "stream",
          "name": "stderr",
          "text": [
            "/usr/local/lib/python3.7/dist-packages/ipykernel_launcher.py:1: FutureWarning: null_counts is deprecated. Use show_counts instead\n",
            "  \"\"\"Entry point for launching an IPython kernel.\n"
          ]
        }
      ],
      "source": [
        "df.info(verbose = True, null_counts = True)"
      ]
    },
    {
      "cell_type": "code",
      "execution_count": 25,
      "metadata": {
        "colab": {
          "base_uri": "https://localhost:8080/"
        },
        "id": "fAUVcMRZJ88r",
        "outputId": "f316fdc7-36ee-439f-a01d-91cd6bbe6346",
        "scrolled": true
      },
      "outputs": [
        {
          "output_type": "execute_result",
          "data": {
            "text/plain": [
              "['HARRASSMENT 2',\n",
              " 'CRIMINAL MISCHIEF & RELATED OF',\n",
              " 'GRAND LARCENY',\n",
              " 'PETIT LARCENY',\n",
              " 'ASSAULT 3 & RELATED OFFENSES',\n",
              " 'FORGERY',\n",
              " 'OFF. AGNST PUB ORD SENSBLTY &',\n",
              " 'FELONY ASSAULT',\n",
              " 'VEHICLE AND TRAFFIC LAWS',\n",
              " 'OFFENSES AGAINST PUBLIC ADMINI',\n",
              " 'ROBBERY',\n",
              " 'RAPE',\n",
              " 'BURGLARY',\n",
              " 'GRAND LARCENY OF MOTOR VEHICLE',\n",
              " 'POSSESSION OF STOLEN PROPERTY',\n",
              " 'THEFT-FRAUD',\n",
              " 'MISCELLANEOUS PENAL LAW',\n",
              " 'CRIMINAL TRESPASS',\n",
              " 'DANGEROUS WEAPONS',\n",
              " 'ADMINISTRATIVE CODE',\n",
              " 'UNAUTHORIZED USE OF A VEHICLE',\n",
              " 'OTHER OFFENSES RELATED TO THEF',\n",
              " 'FRAUDS',\n",
              " 'SEX CRIMES',\n",
              " 'ARSON',\n",
              " 'OFFENSES AGAINST THE PERSON',\n",
              " \"BURGLAR'S TOOLS\",\n",
              " 'FRAUDULENT ACCOSTING',\n",
              " 'INTOXICATED & IMPAIRED DRIVING',\n",
              " 'DANGEROUS DRUGS',\n",
              " 'OTHER STATE LAWS',\n",
              " 'JOSTLING',\n",
              " 'OFFENSES INVOLVING FRAUD',\n",
              " 'PETIT LARCENY OF MOTOR VEHICLE',\n",
              " 'ENDAN WELFARE INCOMP',\n",
              " 'KIDNAPPING & RELATED OFFENSES',\n",
              " 'AGRICULTURE & MRKTS LAW-UNCLASSIFIED',\n",
              " 'PROSTITUTION & RELATED OFFENSES',\n",
              " 'OTHER STATE LAWS (NON PENAL LA',\n",
              " 'CHILD ABANDONMENT/NON SUPPORT',\n",
              " 'NYS LAWS-UNCLASSIFIED FELONY',\n",
              " 'DISORDERLY CONDUCT',\n",
              " 'HOMICIDE-NEGLIGENT,UNCLASSIFIE',\n",
              " 'ANTICIPATORY OFFENSES',\n",
              " 'OFFENSES RELATED TO CHILDREN',\n",
              " 'THEFT OF SERVICES',\n",
              " 'HOMICIDE-NEGLIGENT-VEHICLE',\n",
              " 'DISRUPTION OF A RELIGIOUS SERV',\n",
              " 'KIDNAPPING',\n",
              " 'GAMBLING',\n",
              " 'KIDNAPPING AND RELATED OFFENSES',\n",
              " 'FELONY SEX CRIMES',\n",
              " 'OFFENSES AGAINST PUBLIC SAFETY',\n",
              " 'OFFENSES AGAINST MARRIAGE UNCL',\n",
              " 'INTOXICATED/IMPAIRED DRIVING',\n",
              " 'ABORTION',\n",
              " 'FORTUNE TELLING',\n",
              " 'ESCAPE 3',\n",
              " 'ALCOHOLIC BEVERAGE CONTROL LAW',\n",
              " 'UNDER THE INFLUENCE OF DRUGS',\n",
              " 'NYS LAWS-UNCLASSIFIED VIOLATION',\n",
              " 'NEW YORK CITY HEALTH CODE',\n",
              " 'OTHER STATE LAWS (NON PENAL LAW)',\n",
              " 'LOITERING',\n",
              " 'LOITERING/GAMBLING (CARDS, DIC',\n",
              " 'UNLAWFUL POSS. WEAP. ON SCHOOL',\n",
              " 'LOITERING FOR DRUG PURPOSES',\n",
              " 'ADMINISTRATIVE CODES']"
            ]
          },
          "metadata": {},
          "execution_count": 25
        }
      ],
      "source": [
        "(df.OFNS_DESC.unique().tolist())\n"
      ]
    },
    {
      "cell_type": "code",
      "execution_count": 26,
      "metadata": {
        "colab": {
          "base_uri": "https://localhost:8080/"
        },
        "id": "CXzjMCCBJ88s",
        "outputId": "fc27286c-6ac5-4562-c846-7c1a1bced4d1"
      },
      "outputs": [
        {
          "output_type": "execute_result",
          "data": {
            "text/plain": [
              "70"
            ]
          },
          "metadata": {},
          "execution_count": 26
        }
      ],
      "source": [
        "len(df.KY_CD.unique()) "
      ]
    },
    {
      "cell_type": "code",
      "execution_count": 27,
      "metadata": {
        "id": "d3KzJa3jJ88t"
      },
      "outputs": [],
      "source": [
        "KY_OFNS = df_copy.copy()"
      ]
    },
    {
      "cell_type": "code",
      "execution_count": 28,
      "metadata": {
        "id": "t7o23Az1J88t"
      },
      "outputs": [],
      "source": [
        "KY_OFNS = KY_OFNS[['KY_CD','OFNS_DESC']]"
      ]
    },
    {
      "cell_type": "code",
      "execution_count": 29,
      "metadata": {
        "id": "tOlFGMQyJ88u"
      },
      "outputs": [],
      "source": [
        "KY_OFNS = KY_OFNS.drop_duplicates()"
      ]
    },
    {
      "cell_type": "code",
      "execution_count": 30,
      "metadata": {
        "colab": {
          "base_uri": "https://localhost:8080/"
        },
        "id": "9KEgXWnVJ88u",
        "outputId": "1baa3906-dbca-45d2-c7b0-875b92e60521"
      },
      "outputs": [
        {
          "output_type": "execute_result",
          "data": {
            "text/plain": [
              "82"
            ]
          },
          "metadata": {},
          "execution_count": 30
        }
      ],
      "source": [
        "len(KY_OFNS)"
      ]
    },
    {
      "cell_type": "code",
      "execution_count": 31,
      "metadata": {
        "id": "eSC-zqmAJ88u"
      },
      "outputs": [],
      "source": [
        "KY_OFNS = KY_OFNS.replace(to_replace =[\"DANGEROUS DRUGS\", \"INTOXICATED/IMPAIRED DRIVING\",\"UNDER THE INFLUENCE OF DRUGS\",\"LOITERING FOR DRUG PURPOSES\",\"INTOXICATED & IMPAIRED DRIVING\",\"ALCOHOLIC BEVERAGE CONTROL LAW\"],  \n",
        "                            value =\"Drug and Alchohol crimes\") "
      ]
    },
    {
      "cell_type": "code",
      "execution_count": 32,
      "metadata": {
        "id": "Ice9gmoHJ88v"
      },
      "outputs": [],
      "source": [
        "KY_OFNS = KY_OFNS.replace(to_replace =[360,577,117,347,235,346,119], value = 1)"
      ]
    },
    {
      "cell_type": "code",
      "execution_count": 33,
      "metadata": {
        "id": "l_5yG8p8J88v"
      },
      "outputs": [],
      "source": [
        "KY_OFNS = KY_OFNS.replace(to_replace =[\"GRAND LARCENY\",\"PETIT LARCENY OF MOTOR VEHICLE\",\"PETIT LARCENY\",\"ROBBERY\",\"BURGLARY\",\"GRAND LARCENY OF MOTOR VEHICLE\",\"THEFT-FRAUD\",\"POSSESSION OF STOLEN PROPERTY\",\"OTHER OFFENSES RELATED TO THEF\",\"THEFT OF SERVICES\",\"THEFT OF SERVICES\"], value = \"Theft\")"
      ]
    },
    {
      "cell_type": "code",
      "execution_count": 34,
      "metadata": {
        "id": "RXqvqtr0J88w"
      },
      "outputs": [],
      "source": [
        "KY_OFNS = KY_OFNS.replace(to_replace =[109,341,105,107,110,112,111,343,342], value = 2)"
      ]
    },
    {
      "cell_type": "code",
      "execution_count": 35,
      "metadata": {
        "id": "dGOGPldtJ88w"
      },
      "outputs": [],
      "source": [
        "KY_OFNS = KY_OFNS.drop_duplicates()"
      ]
    },
    {
      "cell_type": "code",
      "execution_count": 36,
      "metadata": {
        "colab": {
          "base_uri": "https://localhost:8080/"
        },
        "id": "_fywb6y_J88w",
        "outputId": "b86e8aeb-48e6-469d-c1e0-6a9ffa55469d"
      },
      "outputs": [
        {
          "output_type": "execute_result",
          "data": {
            "text/plain": [
              "67"
            ]
          },
          "metadata": {},
          "execution_count": 36
        }
      ],
      "source": [
        "len(KY_OFNS)"
      ]
    },
    {
      "cell_type": "code",
      "execution_count": 37,
      "metadata": {
        "colab": {
          "base_uri": "https://localhost:8080/",
          "height": 424
        },
        "id": "Tym-NJcdJ88x",
        "outputId": "61d1b987-97e7-4ed8-99b7-7249a08ef7a7"
      },
      "outputs": [
        {
          "output_type": "execute_result",
          "data": {
            "text/plain": [
              "         KY_CD                       OFNS_DESC\n",
              "0          578                   HARRASSMENT 2\n",
              "1          351  CRIMINAL MISCHIEF & RELATED OF\n",
              "3            2                           Theft\n",
              "6          344    ASSAULT 3 & RELATED OFFENSES\n",
              "9          113                         FORGERY\n",
              "...        ...                             ...\n",
              "781073     362  OFFENSES AGAINST MARRIAGE UNCL\n",
              "962910     366       NEW YORK CITY HEALTH CODE\n",
              "1070778    123                        ABORTION\n",
              "1089405    357                 FORTUNE TELLING\n",
              "1835893    685            ADMINISTRATIVE CODES\n",
              "\n",
              "[67 rows x 2 columns]"
            ],
            "text/html": [
              "\n",
              "  <div id=\"df-740b4a56-5d2e-459f-9037-069470bfd4f2\">\n",
              "    <div class=\"colab-df-container\">\n",
              "      <div>\n",
              "<style scoped>\n",
              "    .dataframe tbody tr th:only-of-type {\n",
              "        vertical-align: middle;\n",
              "    }\n",
              "\n",
              "    .dataframe tbody tr th {\n",
              "        vertical-align: top;\n",
              "    }\n",
              "\n",
              "    .dataframe thead th {\n",
              "        text-align: right;\n",
              "    }\n",
              "</style>\n",
              "<table border=\"1\" class=\"dataframe\">\n",
              "  <thead>\n",
              "    <tr style=\"text-align: right;\">\n",
              "      <th></th>\n",
              "      <th>KY_CD</th>\n",
              "      <th>OFNS_DESC</th>\n",
              "    </tr>\n",
              "  </thead>\n",
              "  <tbody>\n",
              "    <tr>\n",
              "      <th>0</th>\n",
              "      <td>578</td>\n",
              "      <td>HARRASSMENT 2</td>\n",
              "    </tr>\n",
              "    <tr>\n",
              "      <th>1</th>\n",
              "      <td>351</td>\n",
              "      <td>CRIMINAL MISCHIEF &amp; RELATED OF</td>\n",
              "    </tr>\n",
              "    <tr>\n",
              "      <th>3</th>\n",
              "      <td>2</td>\n",
              "      <td>Theft</td>\n",
              "    </tr>\n",
              "    <tr>\n",
              "      <th>6</th>\n",
              "      <td>344</td>\n",
              "      <td>ASSAULT 3 &amp; RELATED OFFENSES</td>\n",
              "    </tr>\n",
              "    <tr>\n",
              "      <th>9</th>\n",
              "      <td>113</td>\n",
              "      <td>FORGERY</td>\n",
              "    </tr>\n",
              "    <tr>\n",
              "      <th>...</th>\n",
              "      <td>...</td>\n",
              "      <td>...</td>\n",
              "    </tr>\n",
              "    <tr>\n",
              "      <th>781073</th>\n",
              "      <td>362</td>\n",
              "      <td>OFFENSES AGAINST MARRIAGE UNCL</td>\n",
              "    </tr>\n",
              "    <tr>\n",
              "      <th>962910</th>\n",
              "      <td>366</td>\n",
              "      <td>NEW YORK CITY HEALTH CODE</td>\n",
              "    </tr>\n",
              "    <tr>\n",
              "      <th>1070778</th>\n",
              "      <td>123</td>\n",
              "      <td>ABORTION</td>\n",
              "    </tr>\n",
              "    <tr>\n",
              "      <th>1089405</th>\n",
              "      <td>357</td>\n",
              "      <td>FORTUNE TELLING</td>\n",
              "    </tr>\n",
              "    <tr>\n",
              "      <th>1835893</th>\n",
              "      <td>685</td>\n",
              "      <td>ADMINISTRATIVE CODES</td>\n",
              "    </tr>\n",
              "  </tbody>\n",
              "</table>\n",
              "<p>67 rows × 2 columns</p>\n",
              "</div>\n",
              "      <button class=\"colab-df-convert\" onclick=\"convertToInteractive('df-740b4a56-5d2e-459f-9037-069470bfd4f2')\"\n",
              "              title=\"Convert this dataframe to an interactive table.\"\n",
              "              style=\"display:none;\">\n",
              "        \n",
              "  <svg xmlns=\"http://www.w3.org/2000/svg\" height=\"24px\"viewBox=\"0 0 24 24\"\n",
              "       width=\"24px\">\n",
              "    <path d=\"M0 0h24v24H0V0z\" fill=\"none\"/>\n",
              "    <path d=\"M18.56 5.44l.94 2.06.94-2.06 2.06-.94-2.06-.94-.94-2.06-.94 2.06-2.06.94zm-11 1L8.5 8.5l.94-2.06 2.06-.94-2.06-.94L8.5 2.5l-.94 2.06-2.06.94zm10 10l.94 2.06.94-2.06 2.06-.94-2.06-.94-.94-2.06-.94 2.06-2.06.94z\"/><path d=\"M17.41 7.96l-1.37-1.37c-.4-.4-.92-.59-1.43-.59-.52 0-1.04.2-1.43.59L10.3 9.45l-7.72 7.72c-.78.78-.78 2.05 0 2.83L4 21.41c.39.39.9.59 1.41.59.51 0 1.02-.2 1.41-.59l7.78-7.78 2.81-2.81c.8-.78.8-2.07 0-2.86zM5.41 20L4 18.59l7.72-7.72 1.47 1.35L5.41 20z\"/>\n",
              "  </svg>\n",
              "      </button>\n",
              "      \n",
              "  <style>\n",
              "    .colab-df-container {\n",
              "      display:flex;\n",
              "      flex-wrap:wrap;\n",
              "      gap: 12px;\n",
              "    }\n",
              "\n",
              "    .colab-df-convert {\n",
              "      background-color: #E8F0FE;\n",
              "      border: none;\n",
              "      border-radius: 50%;\n",
              "      cursor: pointer;\n",
              "      display: none;\n",
              "      fill: #1967D2;\n",
              "      height: 32px;\n",
              "      padding: 0 0 0 0;\n",
              "      width: 32px;\n",
              "    }\n",
              "\n",
              "    .colab-df-convert:hover {\n",
              "      background-color: #E2EBFA;\n",
              "      box-shadow: 0px 1px 2px rgba(60, 64, 67, 0.3), 0px 1px 3px 1px rgba(60, 64, 67, 0.15);\n",
              "      fill: #174EA6;\n",
              "    }\n",
              "\n",
              "    [theme=dark] .colab-df-convert {\n",
              "      background-color: #3B4455;\n",
              "      fill: #D2E3FC;\n",
              "    }\n",
              "\n",
              "    [theme=dark] .colab-df-convert:hover {\n",
              "      background-color: #434B5C;\n",
              "      box-shadow: 0px 1px 3px 1px rgba(0, 0, 0, 0.15);\n",
              "      filter: drop-shadow(0px 1px 2px rgba(0, 0, 0, 0.3));\n",
              "      fill: #FFFFFF;\n",
              "    }\n",
              "  </style>\n",
              "\n",
              "      <script>\n",
              "        const buttonEl =\n",
              "          document.querySelector('#df-740b4a56-5d2e-459f-9037-069470bfd4f2 button.colab-df-convert');\n",
              "        buttonEl.style.display =\n",
              "          google.colab.kernel.accessAllowed ? 'block' : 'none';\n",
              "\n",
              "        async function convertToInteractive(key) {\n",
              "          const element = document.querySelector('#df-740b4a56-5d2e-459f-9037-069470bfd4f2');\n",
              "          const dataTable =\n",
              "            await google.colab.kernel.invokeFunction('convertToInteractive',\n",
              "                                                     [key], {});\n",
              "          if (!dataTable) return;\n",
              "\n",
              "          const docLinkHtml = 'Like what you see? Visit the ' +\n",
              "            '<a target=\"_blank\" href=https://colab.research.google.com/notebooks/data_table.ipynb>data table notebook</a>'\n",
              "            + ' to learn more about interactive tables.';\n",
              "          element.innerHTML = '';\n",
              "          dataTable['output_type'] = 'display_data';\n",
              "          await google.colab.output.renderOutput(dataTable, element);\n",
              "          const docLink = document.createElement('div');\n",
              "          docLink.innerHTML = docLinkHtml;\n",
              "          element.appendChild(docLink);\n",
              "        }\n",
              "      </script>\n",
              "    </div>\n",
              "  </div>\n",
              "  "
            ]
          },
          "metadata": {},
          "execution_count": 37
        }
      ],
      "source": [
        "KY_OFNS"
      ]
    },
    {
      "cell_type": "code",
      "execution_count": 38,
      "metadata": {
        "id": "68g5QCKfJ88x"
      },
      "outputs": [],
      "source": [
        "KY_OFNS = KY_OFNS.replace(to_replace =[\"RAPE\", \"PROSTITUTION & RELATED OFFENSES\",\"FELONY SEX CRIMES\"],  \n",
        "                            value =\"SEX CRIMES\")"
      ]
    },
    {
      "cell_type": "code",
      "execution_count": 39,
      "metadata": {
        "id": "ehz9KUjcJ88y"
      },
      "outputs": [],
      "source": [
        "KY_OFNS = KY_OFNS.replace(to_replace =[104,233,116,356,115,116,119,234], value =3)"
      ]
    },
    {
      "cell_type": "code",
      "execution_count": 40,
      "metadata": {
        "id": "pJVqb7pYJ88y"
      },
      "outputs": [],
      "source": [
        "KY_OFNS = KY_OFNS.replace(to_replace =[\"ASSAULT 3 & RELATED OFFENSES\", \"FELONY ASSAULT\",\"HOMICIDE-NEGLIGENT,UNCLASSIFIE\",\"HOMICIDE-NEGLIGENT-VEHICLE\",\"MURDER\"],  \n",
        "                            value =\"Assault or Murder\")"
      ]
    },
    {
      "cell_type": "code",
      "execution_count": 41,
      "metadata": {
        "id": "7puzIxacJ88y"
      },
      "outputs": [],
      "source": [
        "KY_OFNS = KY_OFNS.replace(to_replace =[344,106,103,102,101], value =4)"
      ]
    },
    {
      "cell_type": "code",
      "execution_count": 42,
      "metadata": {
        "id": "_SE9Dom0J88z"
      },
      "outputs": [],
      "source": [
        "KY_OFNS = KY_OFNS.drop_duplicates()"
      ]
    },
    {
      "cell_type": "code",
      "execution_count": 43,
      "metadata": {
        "colab": {
          "base_uri": "https://localhost:8080/"
        },
        "id": "cuJuJFZLJ88z",
        "outputId": "48871be6-62e1-4d24-ec3c-a801519fda0e"
      },
      "outputs": [
        {
          "output_type": "execute_result",
          "data": {
            "text/plain": [
              "58"
            ]
          },
          "metadata": {},
          "execution_count": 43
        }
      ],
      "source": [
        "len(KY_OFNS)"
      ]
    },
    {
      "cell_type": "code",
      "execution_count": 44,
      "metadata": {
        "id": "_gdVFWQJJ88z"
      },
      "outputs": [],
      "source": [
        "KY_OFNS = KY_OFNS.replace(to_replace =[\"ENDAN WELFARE INCOMP\",\"ABORTION\", \"KIDNAPPING AND RELATED OFFENSES\",\"KIDNAPPING\",\"OFFENSES RELATED TO CHILDREN\",\"CHILD ABANDONMENT/NON SUPPORT\",\"KIDNAPPING & RELATED OFFENSES\"],  \n",
        "                            value =\"Kidnapping and other crimes against children\")"
      ]
    },
    {
      "cell_type": "code",
      "execution_count": 45,
      "metadata": {
        "id": "2lJvYVw1J880"
      },
      "outputs": [],
      "source": [
        "KY_OFNS = KY_OFNS.replace(to_replace =[123,124,345], value =5)"
      ]
    },
    {
      "cell_type": "code",
      "execution_count": 46,
      "metadata": {
        "id": "KLidwg7qJ881"
      },
      "outputs": [],
      "source": [
        "KY_OFNS = KY_OFNS.replace(to_replace =[\"OTHER STATE LAWS\",\"AGRICULTURE & MRKTS LAW-UNCLASSIFIED\",\"ADMINISTRATIVE CODES\", \"NEW YORK CITY HEALTH CODE\",\"OTHER TRAFFIC INFRACTION\",\"OTHER STATE LAWS (NON PENAL LAW)\",\"NYS LAWS-UNCLASSIFIED VIOLATION\",\"ADMINISTRATIVE CODE\",\"OTHER STATE LAWS (NON PENAL LA\",\"NYS LAWS-UNCLASSIFIED FELONY\",\"OFF. AGNST PUB ORD SENSBLTY &\",\"VEHICLE AND TRAFFIC LAWS\",\"OFFENSES AGAINST PUBLIC ADMINI\",\"ADMINISTRATIVE CODE\"],  \n",
        "                            value =\"City Law Violation\")"
      ]
    },
    {
      "cell_type": "code",
      "execution_count": 47,
      "metadata": {
        "id": "0njEbiyTJ882"
      },
      "outputs": [],
      "source": [
        "KY_OFNS = KY_OFNS.replace(to_replace =[685,366,881,364,676,677,675,125,364,361,348,359,365], value =6)"
      ]
    },
    {
      "cell_type": "code",
      "execution_count": 48,
      "metadata": {
        "id": "G7UFB379J882"
      },
      "outputs": [],
      "source": [
        "KY_OFNS = KY_OFNS.drop_duplicates()"
      ]
    },
    {
      "cell_type": "code",
      "execution_count": 49,
      "metadata": {
        "colab": {
          "base_uri": "https://localhost:8080/",
          "height": 1000
        },
        "id": "C6WGHNxzJ882",
        "outputId": "c9f1afdf-fdfe-4127-b174-1d47297cc4b8"
      },
      "outputs": [
        {
          "output_type": "execute_result",
          "data": {
            "text/plain": [
              "         KY_CD                                     OFNS_DESC\n",
              "0          578                                 HARRASSMENT 2\n",
              "1          351                CRIMINAL MISCHIEF & RELATED OF\n",
              "3            2                                         Theft\n",
              "6            4                             Assault or Murder\n",
              "9          113                                       FORGERY\n",
              "12           1                      Drug and Alchohol crimes\n",
              "16         121                CRIMINAL MISCHIEF & RELATED OF\n",
              "17         236                             DANGEROUS WEAPONS\n",
              "20           6                            City Law Violation\n",
              "40         118                             DANGEROUS WEAPONS\n",
              "59           3                                    SEX CRIMES\n",
              "139        232                                         Theft\n",
              "159        126                       MISCELLANEOUS PENAL LAW\n",
              "229        352                             CRIMINAL TRESPASS\n",
              "255        114                                         ARSON\n",
              "331        353                 UNAUTHORIZED USE OF A VEHICLE\n",
              "352        678                       MISCELLANEOUS PENAL LAW\n",
              "403        340                                        FRAUDS\n",
              "441        355                   OFFENSES AGAINST THE PERSON\n",
              "1572       350                                      GAMBLING\n",
              "2091       231                               BURGLAR'S TOOLS\n",
              "2113       238                          FRAUDULENT ACCOSTING\n",
              "2292       358                      OFFENSES INVOLVING FRAUD\n",
              "4156       230                                      JOSTLING\n",
              "6590       120  Kidnapping and other crimes against children\n",
              "6623         5  Kidnapping and other crimes against children\n",
              "24542      572                            DISORDERLY CONDUCT\n",
              "31516      354                         ANTICIPATORY OFFENSES\n",
              "34059      363                OFFENSES AGAINST PUBLIC SAFETY\n",
              "96877      349                DISRUPTION OF A RELIGIOUS SERV\n",
              "180962     571                LOITERING/GAMBLING (CARDS, DIC\n",
              "187744     237                                      ESCAPE 3\n",
              "337343     455                UNLAWFUL POSS. WEAP. ON SCHOOL\n",
              "354646     122                                      GAMBLING\n",
              "673335     672                                     LOITERING\n",
              "781073     362                OFFENSES AGAINST MARRIAGE UNCL\n",
              "1089405    357                               FORTUNE TELLING"
            ],
            "text/html": [
              "\n",
              "  <div id=\"df-e7fe3410-e98b-48e5-93d1-0f03ae5b5fc1\">\n",
              "    <div class=\"colab-df-container\">\n",
              "      <div>\n",
              "<style scoped>\n",
              "    .dataframe tbody tr th:only-of-type {\n",
              "        vertical-align: middle;\n",
              "    }\n",
              "\n",
              "    .dataframe tbody tr th {\n",
              "        vertical-align: top;\n",
              "    }\n",
              "\n",
              "    .dataframe thead th {\n",
              "        text-align: right;\n",
              "    }\n",
              "</style>\n",
              "<table border=\"1\" class=\"dataframe\">\n",
              "  <thead>\n",
              "    <tr style=\"text-align: right;\">\n",
              "      <th></th>\n",
              "      <th>KY_CD</th>\n",
              "      <th>OFNS_DESC</th>\n",
              "    </tr>\n",
              "  </thead>\n",
              "  <tbody>\n",
              "    <tr>\n",
              "      <th>0</th>\n",
              "      <td>578</td>\n",
              "      <td>HARRASSMENT 2</td>\n",
              "    </tr>\n",
              "    <tr>\n",
              "      <th>1</th>\n",
              "      <td>351</td>\n",
              "      <td>CRIMINAL MISCHIEF &amp; RELATED OF</td>\n",
              "    </tr>\n",
              "    <tr>\n",
              "      <th>3</th>\n",
              "      <td>2</td>\n",
              "      <td>Theft</td>\n",
              "    </tr>\n",
              "    <tr>\n",
              "      <th>6</th>\n",
              "      <td>4</td>\n",
              "      <td>Assault or Murder</td>\n",
              "    </tr>\n",
              "    <tr>\n",
              "      <th>9</th>\n",
              "      <td>113</td>\n",
              "      <td>FORGERY</td>\n",
              "    </tr>\n",
              "    <tr>\n",
              "      <th>12</th>\n",
              "      <td>1</td>\n",
              "      <td>Drug and Alchohol crimes</td>\n",
              "    </tr>\n",
              "    <tr>\n",
              "      <th>16</th>\n",
              "      <td>121</td>\n",
              "      <td>CRIMINAL MISCHIEF &amp; RELATED OF</td>\n",
              "    </tr>\n",
              "    <tr>\n",
              "      <th>17</th>\n",
              "      <td>236</td>\n",
              "      <td>DANGEROUS WEAPONS</td>\n",
              "    </tr>\n",
              "    <tr>\n",
              "      <th>20</th>\n",
              "      <td>6</td>\n",
              "      <td>City Law Violation</td>\n",
              "    </tr>\n",
              "    <tr>\n",
              "      <th>40</th>\n",
              "      <td>118</td>\n",
              "      <td>DANGEROUS WEAPONS</td>\n",
              "    </tr>\n",
              "    <tr>\n",
              "      <th>59</th>\n",
              "      <td>3</td>\n",
              "      <td>SEX CRIMES</td>\n",
              "    </tr>\n",
              "    <tr>\n",
              "      <th>139</th>\n",
              "      <td>232</td>\n",
              "      <td>Theft</td>\n",
              "    </tr>\n",
              "    <tr>\n",
              "      <th>159</th>\n",
              "      <td>126</td>\n",
              "      <td>MISCELLANEOUS PENAL LAW</td>\n",
              "    </tr>\n",
              "    <tr>\n",
              "      <th>229</th>\n",
              "      <td>352</td>\n",
              "      <td>CRIMINAL TRESPASS</td>\n",
              "    </tr>\n",
              "    <tr>\n",
              "      <th>255</th>\n",
              "      <td>114</td>\n",
              "      <td>ARSON</td>\n",
              "    </tr>\n",
              "    <tr>\n",
              "      <th>331</th>\n",
              "      <td>353</td>\n",
              "      <td>UNAUTHORIZED USE OF A VEHICLE</td>\n",
              "    </tr>\n",
              "    <tr>\n",
              "      <th>352</th>\n",
              "      <td>678</td>\n",
              "      <td>MISCELLANEOUS PENAL LAW</td>\n",
              "    </tr>\n",
              "    <tr>\n",
              "      <th>403</th>\n",
              "      <td>340</td>\n",
              "      <td>FRAUDS</td>\n",
              "    </tr>\n",
              "    <tr>\n",
              "      <th>441</th>\n",
              "      <td>355</td>\n",
              "      <td>OFFENSES AGAINST THE PERSON</td>\n",
              "    </tr>\n",
              "    <tr>\n",
              "      <th>1572</th>\n",
              "      <td>350</td>\n",
              "      <td>GAMBLING</td>\n",
              "    </tr>\n",
              "    <tr>\n",
              "      <th>2091</th>\n",
              "      <td>231</td>\n",
              "      <td>BURGLAR'S TOOLS</td>\n",
              "    </tr>\n",
              "    <tr>\n",
              "      <th>2113</th>\n",
              "      <td>238</td>\n",
              "      <td>FRAUDULENT ACCOSTING</td>\n",
              "    </tr>\n",
              "    <tr>\n",
              "      <th>2292</th>\n",
              "      <td>358</td>\n",
              "      <td>OFFENSES INVOLVING FRAUD</td>\n",
              "    </tr>\n",
              "    <tr>\n",
              "      <th>4156</th>\n",
              "      <td>230</td>\n",
              "      <td>JOSTLING</td>\n",
              "    </tr>\n",
              "    <tr>\n",
              "      <th>6590</th>\n",
              "      <td>120</td>\n",
              "      <td>Kidnapping and other crimes against children</td>\n",
              "    </tr>\n",
              "    <tr>\n",
              "      <th>6623</th>\n",
              "      <td>5</td>\n",
              "      <td>Kidnapping and other crimes against children</td>\n",
              "    </tr>\n",
              "    <tr>\n",
              "      <th>24542</th>\n",
              "      <td>572</td>\n",
              "      <td>DISORDERLY CONDUCT</td>\n",
              "    </tr>\n",
              "    <tr>\n",
              "      <th>31516</th>\n",
              "      <td>354</td>\n",
              "      <td>ANTICIPATORY OFFENSES</td>\n",
              "    </tr>\n",
              "    <tr>\n",
              "      <th>34059</th>\n",
              "      <td>363</td>\n",
              "      <td>OFFENSES AGAINST PUBLIC SAFETY</td>\n",
              "    </tr>\n",
              "    <tr>\n",
              "      <th>96877</th>\n",
              "      <td>349</td>\n",
              "      <td>DISRUPTION OF A RELIGIOUS SERV</td>\n",
              "    </tr>\n",
              "    <tr>\n",
              "      <th>180962</th>\n",
              "      <td>571</td>\n",
              "      <td>LOITERING/GAMBLING (CARDS, DIC</td>\n",
              "    </tr>\n",
              "    <tr>\n",
              "      <th>187744</th>\n",
              "      <td>237</td>\n",
              "      <td>ESCAPE 3</td>\n",
              "    </tr>\n",
              "    <tr>\n",
              "      <th>337343</th>\n",
              "      <td>455</td>\n",
              "      <td>UNLAWFUL POSS. WEAP. ON SCHOOL</td>\n",
              "    </tr>\n",
              "    <tr>\n",
              "      <th>354646</th>\n",
              "      <td>122</td>\n",
              "      <td>GAMBLING</td>\n",
              "    </tr>\n",
              "    <tr>\n",
              "      <th>673335</th>\n",
              "      <td>672</td>\n",
              "      <td>LOITERING</td>\n",
              "    </tr>\n",
              "    <tr>\n",
              "      <th>781073</th>\n",
              "      <td>362</td>\n",
              "      <td>OFFENSES AGAINST MARRIAGE UNCL</td>\n",
              "    </tr>\n",
              "    <tr>\n",
              "      <th>1089405</th>\n",
              "      <td>357</td>\n",
              "      <td>FORTUNE TELLING</td>\n",
              "    </tr>\n",
              "  </tbody>\n",
              "</table>\n",
              "</div>\n",
              "      <button class=\"colab-df-convert\" onclick=\"convertToInteractive('df-e7fe3410-e98b-48e5-93d1-0f03ae5b5fc1')\"\n",
              "              title=\"Convert this dataframe to an interactive table.\"\n",
              "              style=\"display:none;\">\n",
              "        \n",
              "  <svg xmlns=\"http://www.w3.org/2000/svg\" height=\"24px\"viewBox=\"0 0 24 24\"\n",
              "       width=\"24px\">\n",
              "    <path d=\"M0 0h24v24H0V0z\" fill=\"none\"/>\n",
              "    <path d=\"M18.56 5.44l.94 2.06.94-2.06 2.06-.94-2.06-.94-.94-2.06-.94 2.06-2.06.94zm-11 1L8.5 8.5l.94-2.06 2.06-.94-2.06-.94L8.5 2.5l-.94 2.06-2.06.94zm10 10l.94 2.06.94-2.06 2.06-.94-2.06-.94-.94-2.06-.94 2.06-2.06.94z\"/><path d=\"M17.41 7.96l-1.37-1.37c-.4-.4-.92-.59-1.43-.59-.52 0-1.04.2-1.43.59L10.3 9.45l-7.72 7.72c-.78.78-.78 2.05 0 2.83L4 21.41c.39.39.9.59 1.41.59.51 0 1.02-.2 1.41-.59l7.78-7.78 2.81-2.81c.8-.78.8-2.07 0-2.86zM5.41 20L4 18.59l7.72-7.72 1.47 1.35L5.41 20z\"/>\n",
              "  </svg>\n",
              "      </button>\n",
              "      \n",
              "  <style>\n",
              "    .colab-df-container {\n",
              "      display:flex;\n",
              "      flex-wrap:wrap;\n",
              "      gap: 12px;\n",
              "    }\n",
              "\n",
              "    .colab-df-convert {\n",
              "      background-color: #E8F0FE;\n",
              "      border: none;\n",
              "      border-radius: 50%;\n",
              "      cursor: pointer;\n",
              "      display: none;\n",
              "      fill: #1967D2;\n",
              "      height: 32px;\n",
              "      padding: 0 0 0 0;\n",
              "      width: 32px;\n",
              "    }\n",
              "\n",
              "    .colab-df-convert:hover {\n",
              "      background-color: #E2EBFA;\n",
              "      box-shadow: 0px 1px 2px rgba(60, 64, 67, 0.3), 0px 1px 3px 1px rgba(60, 64, 67, 0.15);\n",
              "      fill: #174EA6;\n",
              "    }\n",
              "\n",
              "    [theme=dark] .colab-df-convert {\n",
              "      background-color: #3B4455;\n",
              "      fill: #D2E3FC;\n",
              "    }\n",
              "\n",
              "    [theme=dark] .colab-df-convert:hover {\n",
              "      background-color: #434B5C;\n",
              "      box-shadow: 0px 1px 3px 1px rgba(0, 0, 0, 0.15);\n",
              "      filter: drop-shadow(0px 1px 2px rgba(0, 0, 0, 0.3));\n",
              "      fill: #FFFFFF;\n",
              "    }\n",
              "  </style>\n",
              "\n",
              "      <script>\n",
              "        const buttonEl =\n",
              "          document.querySelector('#df-e7fe3410-e98b-48e5-93d1-0f03ae5b5fc1 button.colab-df-convert');\n",
              "        buttonEl.style.display =\n",
              "          google.colab.kernel.accessAllowed ? 'block' : 'none';\n",
              "\n",
              "        async function convertToInteractive(key) {\n",
              "          const element = document.querySelector('#df-e7fe3410-e98b-48e5-93d1-0f03ae5b5fc1');\n",
              "          const dataTable =\n",
              "            await google.colab.kernel.invokeFunction('convertToInteractive',\n",
              "                                                     [key], {});\n",
              "          if (!dataTable) return;\n",
              "\n",
              "          const docLinkHtml = 'Like what you see? Visit the ' +\n",
              "            '<a target=\"_blank\" href=https://colab.research.google.com/notebooks/data_table.ipynb>data table notebook</a>'\n",
              "            + ' to learn more about interactive tables.';\n",
              "          element.innerHTML = '';\n",
              "          dataTable['output_type'] = 'display_data';\n",
              "          await google.colab.output.renderOutput(dataTable, element);\n",
              "          const docLink = document.createElement('div');\n",
              "          docLink.innerHTML = docLinkHtml;\n",
              "          element.appendChild(docLink);\n",
              "        }\n",
              "      </script>\n",
              "    </div>\n",
              "  </div>\n",
              "  "
            ]
          },
          "metadata": {},
          "execution_count": 49
        }
      ],
      "source": [
        "(KY_OFNS)"
      ]
    },
    {
      "cell_type": "code",
      "execution_count": 50,
      "metadata": {
        "id": "mLLeFuWuJ883"
      },
      "outputs": [],
      "source": [
        "KY_OFNS = KY_OFNS.loc[KY_OFNS.KY_CD.isin([1,2,3,4,5,6])]"
      ]
    },
    {
      "cell_type": "code",
      "execution_count": 51,
      "metadata": {
        "colab": {
          "base_uri": "https://localhost:8080/",
          "height": 238
        },
        "id": "LvrwBQnaJ883",
        "outputId": "7cc87293-31e3-47a2-c40b-2236c0a9fc39"
      },
      "outputs": [
        {
          "output_type": "execute_result",
          "data": {
            "text/plain": [
              "      KY_CD                                     OFNS_DESC\n",
              "3         2                                         Theft\n",
              "6         4                             Assault or Murder\n",
              "12        1                      Drug and Alchohol crimes\n",
              "20        6                            City Law Violation\n",
              "59        3                                    SEX CRIMES\n",
              "6623      5  Kidnapping and other crimes against children"
            ],
            "text/html": [
              "\n",
              "  <div id=\"df-bcff7f74-37af-44d5-901f-4aaa7023cfc2\">\n",
              "    <div class=\"colab-df-container\">\n",
              "      <div>\n",
              "<style scoped>\n",
              "    .dataframe tbody tr th:only-of-type {\n",
              "        vertical-align: middle;\n",
              "    }\n",
              "\n",
              "    .dataframe tbody tr th {\n",
              "        vertical-align: top;\n",
              "    }\n",
              "\n",
              "    .dataframe thead th {\n",
              "        text-align: right;\n",
              "    }\n",
              "</style>\n",
              "<table border=\"1\" class=\"dataframe\">\n",
              "  <thead>\n",
              "    <tr style=\"text-align: right;\">\n",
              "      <th></th>\n",
              "      <th>KY_CD</th>\n",
              "      <th>OFNS_DESC</th>\n",
              "    </tr>\n",
              "  </thead>\n",
              "  <tbody>\n",
              "    <tr>\n",
              "      <th>3</th>\n",
              "      <td>2</td>\n",
              "      <td>Theft</td>\n",
              "    </tr>\n",
              "    <tr>\n",
              "      <th>6</th>\n",
              "      <td>4</td>\n",
              "      <td>Assault or Murder</td>\n",
              "    </tr>\n",
              "    <tr>\n",
              "      <th>12</th>\n",
              "      <td>1</td>\n",
              "      <td>Drug and Alchohol crimes</td>\n",
              "    </tr>\n",
              "    <tr>\n",
              "      <th>20</th>\n",
              "      <td>6</td>\n",
              "      <td>City Law Violation</td>\n",
              "    </tr>\n",
              "    <tr>\n",
              "      <th>59</th>\n",
              "      <td>3</td>\n",
              "      <td>SEX CRIMES</td>\n",
              "    </tr>\n",
              "    <tr>\n",
              "      <th>6623</th>\n",
              "      <td>5</td>\n",
              "      <td>Kidnapping and other crimes against children</td>\n",
              "    </tr>\n",
              "  </tbody>\n",
              "</table>\n",
              "</div>\n",
              "      <button class=\"colab-df-convert\" onclick=\"convertToInteractive('df-bcff7f74-37af-44d5-901f-4aaa7023cfc2')\"\n",
              "              title=\"Convert this dataframe to an interactive table.\"\n",
              "              style=\"display:none;\">\n",
              "        \n",
              "  <svg xmlns=\"http://www.w3.org/2000/svg\" height=\"24px\"viewBox=\"0 0 24 24\"\n",
              "       width=\"24px\">\n",
              "    <path d=\"M0 0h24v24H0V0z\" fill=\"none\"/>\n",
              "    <path d=\"M18.56 5.44l.94 2.06.94-2.06 2.06-.94-2.06-.94-.94-2.06-.94 2.06-2.06.94zm-11 1L8.5 8.5l.94-2.06 2.06-.94-2.06-.94L8.5 2.5l-.94 2.06-2.06.94zm10 10l.94 2.06.94-2.06 2.06-.94-2.06-.94-.94-2.06-.94 2.06-2.06.94z\"/><path d=\"M17.41 7.96l-1.37-1.37c-.4-.4-.92-.59-1.43-.59-.52 0-1.04.2-1.43.59L10.3 9.45l-7.72 7.72c-.78.78-.78 2.05 0 2.83L4 21.41c.39.39.9.59 1.41.59.51 0 1.02-.2 1.41-.59l7.78-7.78 2.81-2.81c.8-.78.8-2.07 0-2.86zM5.41 20L4 18.59l7.72-7.72 1.47 1.35L5.41 20z\"/>\n",
              "  </svg>\n",
              "      </button>\n",
              "      \n",
              "  <style>\n",
              "    .colab-df-container {\n",
              "      display:flex;\n",
              "      flex-wrap:wrap;\n",
              "      gap: 12px;\n",
              "    }\n",
              "\n",
              "    .colab-df-convert {\n",
              "      background-color: #E8F0FE;\n",
              "      border: none;\n",
              "      border-radius: 50%;\n",
              "      cursor: pointer;\n",
              "      display: none;\n",
              "      fill: #1967D2;\n",
              "      height: 32px;\n",
              "      padding: 0 0 0 0;\n",
              "      width: 32px;\n",
              "    }\n",
              "\n",
              "    .colab-df-convert:hover {\n",
              "      background-color: #E2EBFA;\n",
              "      box-shadow: 0px 1px 2px rgba(60, 64, 67, 0.3), 0px 1px 3px 1px rgba(60, 64, 67, 0.15);\n",
              "      fill: #174EA6;\n",
              "    }\n",
              "\n",
              "    [theme=dark] .colab-df-convert {\n",
              "      background-color: #3B4455;\n",
              "      fill: #D2E3FC;\n",
              "    }\n",
              "\n",
              "    [theme=dark] .colab-df-convert:hover {\n",
              "      background-color: #434B5C;\n",
              "      box-shadow: 0px 1px 3px 1px rgba(0, 0, 0, 0.15);\n",
              "      filter: drop-shadow(0px 1px 2px rgba(0, 0, 0, 0.3));\n",
              "      fill: #FFFFFF;\n",
              "    }\n",
              "  </style>\n",
              "\n",
              "      <script>\n",
              "        const buttonEl =\n",
              "          document.querySelector('#df-bcff7f74-37af-44d5-901f-4aaa7023cfc2 button.colab-df-convert');\n",
              "        buttonEl.style.display =\n",
              "          google.colab.kernel.accessAllowed ? 'block' : 'none';\n",
              "\n",
              "        async function convertToInteractive(key) {\n",
              "          const element = document.querySelector('#df-bcff7f74-37af-44d5-901f-4aaa7023cfc2');\n",
              "          const dataTable =\n",
              "            await google.colab.kernel.invokeFunction('convertToInteractive',\n",
              "                                                     [key], {});\n",
              "          if (!dataTable) return;\n",
              "\n",
              "          const docLinkHtml = 'Like what you see? Visit the ' +\n",
              "            '<a target=\"_blank\" href=https://colab.research.google.com/notebooks/data_table.ipynb>data table notebook</a>'\n",
              "            + ' to learn more about interactive tables.';\n",
              "          element.innerHTML = '';\n",
              "          dataTable['output_type'] = 'display_data';\n",
              "          await google.colab.output.renderOutput(dataTable, element);\n",
              "          const docLink = document.createElement('div');\n",
              "          docLink.innerHTML = docLinkHtml;\n",
              "          element.appendChild(docLink);\n",
              "        }\n",
              "      </script>\n",
              "    </div>\n",
              "  </div>\n",
              "  "
            ]
          },
          "metadata": {},
          "execution_count": 51
        }
      ],
      "source": [
        "KY_OFNS = KY_OFNS.drop_duplicates()\n",
        "KY_OFNS"
      ]
    },
    {
      "cell_type": "code",
      "execution_count": 52,
      "metadata": {
        "id": "kLq-5v7xJ884"
      },
      "outputs": [],
      "source": [
        "df = df.replace(to_replace =[360,577,117,347,235,346,119], value = 1)"
      ]
    },
    {
      "cell_type": "code",
      "execution_count": 53,
      "metadata": {
        "id": "OG9BdUfvJ884"
      },
      "outputs": [],
      "source": [
        "df = df.replace(to_replace =[109,341,105,107,110,112,111,343,342], value = 2)"
      ]
    },
    {
      "cell_type": "code",
      "execution_count": 54,
      "metadata": {
        "id": "cLjZWFjWJ884"
      },
      "outputs": [],
      "source": [
        "df = df.replace(to_replace =[104,233,116,356,115,116,119,234], value =3)"
      ]
    },
    {
      "cell_type": "code",
      "execution_count": 55,
      "metadata": {
        "id": "2s1KmZaQJ885"
      },
      "outputs": [],
      "source": [
        "df = df.replace(to_replace =[344,106,103,102,101], value =4)"
      ]
    },
    {
      "cell_type": "code",
      "execution_count": 56,
      "metadata": {
        "id": "STWwRcIlJ885"
      },
      "outputs": [],
      "source": [
        "df= df.replace(to_replace =[123,124,345], value =5)"
      ]
    },
    {
      "cell_type": "code",
      "execution_count": 57,
      "metadata": {
        "id": "LzFzHQr6J885"
      },
      "outputs": [],
      "source": [
        "df = df.replace(to_replace =[685,366,881,364,676,677,675,125,364,361,348,359,365], value =6)"
      ]
    },
    {
      "cell_type": "code",
      "execution_count": 59,
      "metadata": {
        "colab": {
          "base_uri": "https://localhost:8080/",
          "height": 424
        },
        "id": "P2fIEqh3J885",
        "outputId": "c113344e-33c3-4e12-d934-c5c7e93ed684"
      },
      "outputs": [
        {
          "output_type": "execute_result",
          "data": {
            "text/plain": [
              "  CMPLNT_FR_DT CMPLNT_FR_TM VIC_SEX                  VIC_RACE VIC_AGE_GROUP  \\\n",
              "0   05/28/2015     15:00:00       F            WHITE HISPANIC         25-44   \n",
              "1   10/28/2013     13:50:00       M                     WHITE         45-64   \n",
              "3   01/03/2014     13:30:00       M  ASIAN / PACIFIC ISLANDER         45-64   \n",
              "5   08/18/2014     14:30:00       F                     WHITE         18-24   \n",
              "6   02/20/2012     01:30:00       F                     BLACK         25-44   \n",
              "\n",
              "   Latitude  Longitude        BORO_NM                       OFNS_DESC  KY_CD  \\\n",
              "0  40.84375   -73.9375          BRONX                   HARRASSMENT 2    578   \n",
              "1  40.62500   -74.0625  STATEN ISLAND  CRIMINAL MISCHIEF & RELATED OF    351   \n",
              "3  40.75000   -73.8750         QUEENS                   GRAND LARCENY      2   \n",
              "5  40.68750   -73.8750         QUEENS                   PETIT LARCENY      2   \n",
              "6  40.81250   -73.9375      MANHATTAN    ASSAULT 3 & RELATED OFFENSES      4   \n",
              "\n",
              "                 time  hour       Date  month  day_of_week  \n",
              "0 1900-01-01 15:00:00    15 2015-05-28      5            3  \n",
              "1 1900-01-01 13:50:00    13 2013-10-28     10            0  \n",
              "3 1900-01-01 13:30:00    13 2014-01-03      1            4  \n",
              "5 1900-01-01 14:30:00    14 2014-08-18      8            0  \n",
              "6 1900-01-01 01:30:00     1 2012-02-20      2            0  "
            ],
            "text/html": [
              "\n",
              "  <div id=\"df-685c39fa-3817-456b-bb99-7fa326dfef40\">\n",
              "    <div class=\"colab-df-container\">\n",
              "      <div>\n",
              "<style scoped>\n",
              "    .dataframe tbody tr th:only-of-type {\n",
              "        vertical-align: middle;\n",
              "    }\n",
              "\n",
              "    .dataframe tbody tr th {\n",
              "        vertical-align: top;\n",
              "    }\n",
              "\n",
              "    .dataframe thead th {\n",
              "        text-align: right;\n",
              "    }\n",
              "</style>\n",
              "<table border=\"1\" class=\"dataframe\">\n",
              "  <thead>\n",
              "    <tr style=\"text-align: right;\">\n",
              "      <th></th>\n",
              "      <th>CMPLNT_FR_DT</th>\n",
              "      <th>CMPLNT_FR_TM</th>\n",
              "      <th>VIC_SEX</th>\n",
              "      <th>VIC_RACE</th>\n",
              "      <th>VIC_AGE_GROUP</th>\n",
              "      <th>Latitude</th>\n",
              "      <th>Longitude</th>\n",
              "      <th>BORO_NM</th>\n",
              "      <th>OFNS_DESC</th>\n",
              "      <th>KY_CD</th>\n",
              "      <th>time</th>\n",
              "      <th>hour</th>\n",
              "      <th>Date</th>\n",
              "      <th>month</th>\n",
              "      <th>day_of_week</th>\n",
              "    </tr>\n",
              "  </thead>\n",
              "  <tbody>\n",
              "    <tr>\n",
              "      <th>0</th>\n",
              "      <td>05/28/2015</td>\n",
              "      <td>15:00:00</td>\n",
              "      <td>F</td>\n",
              "      <td>WHITE HISPANIC</td>\n",
              "      <td>25-44</td>\n",
              "      <td>40.84375</td>\n",
              "      <td>-73.9375</td>\n",
              "      <td>BRONX</td>\n",
              "      <td>HARRASSMENT 2</td>\n",
              "      <td>578</td>\n",
              "      <td>1900-01-01 15:00:00</td>\n",
              "      <td>15</td>\n",
              "      <td>2015-05-28</td>\n",
              "      <td>5</td>\n",
              "      <td>3</td>\n",
              "    </tr>\n",
              "    <tr>\n",
              "      <th>1</th>\n",
              "      <td>10/28/2013</td>\n",
              "      <td>13:50:00</td>\n",
              "      <td>M</td>\n",
              "      <td>WHITE</td>\n",
              "      <td>45-64</td>\n",
              "      <td>40.62500</td>\n",
              "      <td>-74.0625</td>\n",
              "      <td>STATEN ISLAND</td>\n",
              "      <td>CRIMINAL MISCHIEF &amp; RELATED OF</td>\n",
              "      <td>351</td>\n",
              "      <td>1900-01-01 13:50:00</td>\n",
              "      <td>13</td>\n",
              "      <td>2013-10-28</td>\n",
              "      <td>10</td>\n",
              "      <td>0</td>\n",
              "    </tr>\n",
              "    <tr>\n",
              "      <th>3</th>\n",
              "      <td>01/03/2014</td>\n",
              "      <td>13:30:00</td>\n",
              "      <td>M</td>\n",
              "      <td>ASIAN / PACIFIC ISLANDER</td>\n",
              "      <td>45-64</td>\n",
              "      <td>40.75000</td>\n",
              "      <td>-73.8750</td>\n",
              "      <td>QUEENS</td>\n",
              "      <td>GRAND LARCENY</td>\n",
              "      <td>2</td>\n",
              "      <td>1900-01-01 13:30:00</td>\n",
              "      <td>13</td>\n",
              "      <td>2014-01-03</td>\n",
              "      <td>1</td>\n",
              "      <td>4</td>\n",
              "    </tr>\n",
              "    <tr>\n",
              "      <th>5</th>\n",
              "      <td>08/18/2014</td>\n",
              "      <td>14:30:00</td>\n",
              "      <td>F</td>\n",
              "      <td>WHITE</td>\n",
              "      <td>18-24</td>\n",
              "      <td>40.68750</td>\n",
              "      <td>-73.8750</td>\n",
              "      <td>QUEENS</td>\n",
              "      <td>PETIT LARCENY</td>\n",
              "      <td>2</td>\n",
              "      <td>1900-01-01 14:30:00</td>\n",
              "      <td>14</td>\n",
              "      <td>2014-08-18</td>\n",
              "      <td>8</td>\n",
              "      <td>0</td>\n",
              "    </tr>\n",
              "    <tr>\n",
              "      <th>6</th>\n",
              "      <td>02/20/2012</td>\n",
              "      <td>01:30:00</td>\n",
              "      <td>F</td>\n",
              "      <td>BLACK</td>\n",
              "      <td>25-44</td>\n",
              "      <td>40.81250</td>\n",
              "      <td>-73.9375</td>\n",
              "      <td>MANHATTAN</td>\n",
              "      <td>ASSAULT 3 &amp; RELATED OFFENSES</td>\n",
              "      <td>4</td>\n",
              "      <td>1900-01-01 01:30:00</td>\n",
              "      <td>1</td>\n",
              "      <td>2012-02-20</td>\n",
              "      <td>2</td>\n",
              "      <td>0</td>\n",
              "    </tr>\n",
              "  </tbody>\n",
              "</table>\n",
              "</div>\n",
              "      <button class=\"colab-df-convert\" onclick=\"convertToInteractive('df-685c39fa-3817-456b-bb99-7fa326dfef40')\"\n",
              "              title=\"Convert this dataframe to an interactive table.\"\n",
              "              style=\"display:none;\">\n",
              "        \n",
              "  <svg xmlns=\"http://www.w3.org/2000/svg\" height=\"24px\"viewBox=\"0 0 24 24\"\n",
              "       width=\"24px\">\n",
              "    <path d=\"M0 0h24v24H0V0z\" fill=\"none\"/>\n",
              "    <path d=\"M18.56 5.44l.94 2.06.94-2.06 2.06-.94-2.06-.94-.94-2.06-.94 2.06-2.06.94zm-11 1L8.5 8.5l.94-2.06 2.06-.94-2.06-.94L8.5 2.5l-.94 2.06-2.06.94zm10 10l.94 2.06.94-2.06 2.06-.94-2.06-.94-.94-2.06-.94 2.06-2.06.94z\"/><path d=\"M17.41 7.96l-1.37-1.37c-.4-.4-.92-.59-1.43-.59-.52 0-1.04.2-1.43.59L10.3 9.45l-7.72 7.72c-.78.78-.78 2.05 0 2.83L4 21.41c.39.39.9.59 1.41.59.51 0 1.02-.2 1.41-.59l7.78-7.78 2.81-2.81c.8-.78.8-2.07 0-2.86zM5.41 20L4 18.59l7.72-7.72 1.47 1.35L5.41 20z\"/>\n",
              "  </svg>\n",
              "      </button>\n",
              "      \n",
              "  <style>\n",
              "    .colab-df-container {\n",
              "      display:flex;\n",
              "      flex-wrap:wrap;\n",
              "      gap: 12px;\n",
              "    }\n",
              "\n",
              "    .colab-df-convert {\n",
              "      background-color: #E8F0FE;\n",
              "      border: none;\n",
              "      border-radius: 50%;\n",
              "      cursor: pointer;\n",
              "      display: none;\n",
              "      fill: #1967D2;\n",
              "      height: 32px;\n",
              "      padding: 0 0 0 0;\n",
              "      width: 32px;\n",
              "    }\n",
              "\n",
              "    .colab-df-convert:hover {\n",
              "      background-color: #E2EBFA;\n",
              "      box-shadow: 0px 1px 2px rgba(60, 64, 67, 0.3), 0px 1px 3px 1px rgba(60, 64, 67, 0.15);\n",
              "      fill: #174EA6;\n",
              "    }\n",
              "\n",
              "    [theme=dark] .colab-df-convert {\n",
              "      background-color: #3B4455;\n",
              "      fill: #D2E3FC;\n",
              "    }\n",
              "\n",
              "    [theme=dark] .colab-df-convert:hover {\n",
              "      background-color: #434B5C;\n",
              "      box-shadow: 0px 1px 3px 1px rgba(0, 0, 0, 0.15);\n",
              "      filter: drop-shadow(0px 1px 2px rgba(0, 0, 0, 0.3));\n",
              "      fill: #FFFFFF;\n",
              "    }\n",
              "  </style>\n",
              "\n",
              "      <script>\n",
              "        const buttonEl =\n",
              "          document.querySelector('#df-685c39fa-3817-456b-bb99-7fa326dfef40 button.colab-df-convert');\n",
              "        buttonEl.style.display =\n",
              "          google.colab.kernel.accessAllowed ? 'block' : 'none';\n",
              "\n",
              "        async function convertToInteractive(key) {\n",
              "          const element = document.querySelector('#df-685c39fa-3817-456b-bb99-7fa326dfef40');\n",
              "          const dataTable =\n",
              "            await google.colab.kernel.invokeFunction('convertToInteractive',\n",
              "                                                     [key], {});\n",
              "          if (!dataTable) return;\n",
              "\n",
              "          const docLinkHtml = 'Like what you see? Visit the ' +\n",
              "            '<a target=\"_blank\" href=https://colab.research.google.com/notebooks/data_table.ipynb>data table notebook</a>'\n",
              "            + ' to learn more about interactive tables.';\n",
              "          element.innerHTML = '';\n",
              "          dataTable['output_type'] = 'display_data';\n",
              "          await google.colab.output.renderOutput(dataTable, element);\n",
              "          const docLink = document.createElement('div');\n",
              "          docLink.innerHTML = docLinkHtml;\n",
              "          element.appendChild(docLink);\n",
              "        }\n",
              "      </script>\n",
              "    </div>\n",
              "  </div>\n",
              "  "
            ]
          },
          "metadata": {},
          "execution_count": 59
        }
      ],
      "source": [
        "df.head()"
      ]
    },
    {
      "cell_type": "code",
      "execution_count": 60,
      "metadata": {
        "id": "FQasVCHKJ886"
      },
      "outputs": [],
      "source": [
        "df = df.loc[df.KY_CD.isin([1,2,3,4,5,6])]"
      ]
    },
    {
      "cell_type": "code",
      "execution_count": 61,
      "metadata": {
        "colab": {
          "base_uri": "https://localhost:8080/"
        },
        "id": "qoLfYPO7J886",
        "outputId": "3a2dfbd0-7f78-4e5a-f2bb-eef845d66878"
      },
      "outputs": [
        {
          "output_type": "stream",
          "name": "stdout",
          "text": [
            "<class 'pandas.core.frame.DataFrame'>\n",
            "Int64Index: 3259240 entries, 3 to 6983202\n",
            "Data columns (total 15 columns):\n",
            " #   Column         Non-Null Count    Dtype         \n",
            "---  ------         --------------    -----         \n",
            " 0   CMPLNT_FR_DT   3259240 non-null  category      \n",
            " 1   CMPLNT_FR_TM   3259240 non-null  category      \n",
            " 2   VIC_SEX        3259240 non-null  category      \n",
            " 3   VIC_RACE       3259240 non-null  category      \n",
            " 4   VIC_AGE_GROUP  3259240 non-null  category      \n",
            " 5   Latitude       3259240 non-null  float16       \n",
            " 6   Longitude      3259240 non-null  float16       \n",
            " 7   BORO_NM        3259240 non-null  category      \n",
            " 8   OFNS_DESC      3259240 non-null  category      \n",
            " 9   KY_CD          3259240 non-null  int64         \n",
            " 10  time           3259240 non-null  datetime64[ns]\n",
            " 11  hour           3259240 non-null  int8          \n",
            " 12  Date           3259240 non-null  datetime64[ns]\n",
            " 13  month          3259240 non-null  int64         \n",
            " 14  day_of_week    3259240 non-null  int64         \n",
            "dtypes: category(7), datetime64[ns](2), float16(2), int64(3), int8(1)\n",
            "memory usage: 196.2 MB\n"
          ]
        },
        {
          "output_type": "stream",
          "name": "stderr",
          "text": [
            "/usr/local/lib/python3.7/dist-packages/ipykernel_launcher.py:1: FutureWarning: null_counts is deprecated. Use show_counts instead\n",
            "  \"\"\"Entry point for launching an IPython kernel.\n"
          ]
        }
      ],
      "source": [
        "df.info(verbose = True, null_counts = True)"
      ]
    },
    {
      "cell_type": "code",
      "execution_count": 62,
      "metadata": {
        "id": "DMQ-5n36J887"
      },
      "outputs": [],
      "source": [
        "df = df.drop([\"CMPLNT_FR_DT\",\"CMPLNT_FR_TM\",\"OFNS_DESC\",\"Date\",\"time\"], axis=1)"
      ]
    },
    {
      "cell_type": "code",
      "execution_count": 63,
      "metadata": {
        "colab": {
          "base_uri": "https://localhost:8080/"
        },
        "id": "6rUh_ibIJ887",
        "outputId": "3008e10c-e7cd-465c-b675-9f343b8d9e68"
      },
      "outputs": [
        {
          "output_type": "stream",
          "name": "stdout",
          "text": [
            "<class 'pandas.core.frame.DataFrame'>\n",
            "Int64Index: 3259240 entries, 3 to 6983202\n",
            "Data columns (total 10 columns):\n",
            " #   Column         Dtype   \n",
            "---  ------         -----   \n",
            " 0   VIC_SEX        category\n",
            " 1   VIC_RACE       category\n",
            " 2   VIC_AGE_GROUP  category\n",
            " 3   Latitude       float16 \n",
            " 4   Longitude      float16 \n",
            " 5   BORO_NM        category\n",
            " 6   KY_CD          int64   \n",
            " 7   hour           int8    \n",
            " 8   month          int64   \n",
            " 9   day_of_week    int64   \n",
            "dtypes: category(4), float16(2), int64(3), int8(1)\n",
            "memory usage: 130.6 MB\n"
          ]
        }
      ],
      "source": [
        "df.info()"
      ]
    },
    {
      "cell_type": "code",
      "execution_count": 64,
      "metadata": {
        "id": "zJuHafbFHdBV"
      },
      "outputs": [],
      "source": [
        "df.to_csv(r'Users\\akshitagulati\\Downloads\\BE Project\\FinalDB.csv')"
      ]
    },
    {
      "cell_type": "code",
      "execution_count": 65,
      "metadata": {
        "id": "PJ3aAi0bJ887"
      },
      "outputs": [],
      "source": [
        "#converting to numeric for the model\n",
        "df = df.replace(to_replace =[\"BRONX\"], value = 0)\n",
        "df = df.replace(to_replace =[\"BROOKLYN\"], value = 1)\n",
        "df = df.replace(to_replace =[\"STATEN ISLAND\"], value = 2)\n",
        "df = df.replace(to_replace =[\"MANHATTAN\"], value = 3)\n",
        "df = df.replace(to_replace =[\"QUEENS\"], value = 4)"
      ]
    },
    {
      "cell_type": "code",
      "execution_count": 66,
      "metadata": {
        "colab": {
          "base_uri": "https://localhost:8080/",
          "height": 206
        },
        "id": "xifoCIRYJ888",
        "outputId": "26c59f68-37e5-453d-fb4e-914844136111",
        "scrolled": true
      },
      "outputs": [
        {
          "output_type": "execute_result",
          "data": {
            "text/plain": [
              "   VIC_SEX                  VIC_RACE VIC_AGE_GROUP  Latitude  Longitude  \\\n",
              "3        M  ASIAN / PACIFIC ISLANDER         45-64  40.75000   -73.8750   \n",
              "5        F                     WHITE         18-24  40.68750   -73.8750   \n",
              "6        F                     BLACK         25-44  40.81250   -73.9375   \n",
              "8        M                     WHITE         25-44  40.62500   -73.9375   \n",
              "15       F            BLACK HISPANIC         25-44  40.84375   -73.8750   \n",
              "\n",
              "   BORO_NM  KY_CD  hour  month  day_of_week  \n",
              "3        4      2    13      1            4  \n",
              "5        4      2    14      8            0  \n",
              "6        3      4     1      2            0  \n",
              "8        1      2    16      9            6  \n",
              "15       0      4    13     12            0  "
            ],
            "text/html": [
              "\n",
              "  <div id=\"df-1b064bd4-a614-433a-8af3-130566994647\">\n",
              "    <div class=\"colab-df-container\">\n",
              "      <div>\n",
              "<style scoped>\n",
              "    .dataframe tbody tr th:only-of-type {\n",
              "        vertical-align: middle;\n",
              "    }\n",
              "\n",
              "    .dataframe tbody tr th {\n",
              "        vertical-align: top;\n",
              "    }\n",
              "\n",
              "    .dataframe thead th {\n",
              "        text-align: right;\n",
              "    }\n",
              "</style>\n",
              "<table border=\"1\" class=\"dataframe\">\n",
              "  <thead>\n",
              "    <tr style=\"text-align: right;\">\n",
              "      <th></th>\n",
              "      <th>VIC_SEX</th>\n",
              "      <th>VIC_RACE</th>\n",
              "      <th>VIC_AGE_GROUP</th>\n",
              "      <th>Latitude</th>\n",
              "      <th>Longitude</th>\n",
              "      <th>BORO_NM</th>\n",
              "      <th>KY_CD</th>\n",
              "      <th>hour</th>\n",
              "      <th>month</th>\n",
              "      <th>day_of_week</th>\n",
              "    </tr>\n",
              "  </thead>\n",
              "  <tbody>\n",
              "    <tr>\n",
              "      <th>3</th>\n",
              "      <td>M</td>\n",
              "      <td>ASIAN / PACIFIC ISLANDER</td>\n",
              "      <td>45-64</td>\n",
              "      <td>40.75000</td>\n",
              "      <td>-73.8750</td>\n",
              "      <td>4</td>\n",
              "      <td>2</td>\n",
              "      <td>13</td>\n",
              "      <td>1</td>\n",
              "      <td>4</td>\n",
              "    </tr>\n",
              "    <tr>\n",
              "      <th>5</th>\n",
              "      <td>F</td>\n",
              "      <td>WHITE</td>\n",
              "      <td>18-24</td>\n",
              "      <td>40.68750</td>\n",
              "      <td>-73.8750</td>\n",
              "      <td>4</td>\n",
              "      <td>2</td>\n",
              "      <td>14</td>\n",
              "      <td>8</td>\n",
              "      <td>0</td>\n",
              "    </tr>\n",
              "    <tr>\n",
              "      <th>6</th>\n",
              "      <td>F</td>\n",
              "      <td>BLACK</td>\n",
              "      <td>25-44</td>\n",
              "      <td>40.81250</td>\n",
              "      <td>-73.9375</td>\n",
              "      <td>3</td>\n",
              "      <td>4</td>\n",
              "      <td>1</td>\n",
              "      <td>2</td>\n",
              "      <td>0</td>\n",
              "    </tr>\n",
              "    <tr>\n",
              "      <th>8</th>\n",
              "      <td>M</td>\n",
              "      <td>WHITE</td>\n",
              "      <td>25-44</td>\n",
              "      <td>40.62500</td>\n",
              "      <td>-73.9375</td>\n",
              "      <td>1</td>\n",
              "      <td>2</td>\n",
              "      <td>16</td>\n",
              "      <td>9</td>\n",
              "      <td>6</td>\n",
              "    </tr>\n",
              "    <tr>\n",
              "      <th>15</th>\n",
              "      <td>F</td>\n",
              "      <td>BLACK HISPANIC</td>\n",
              "      <td>25-44</td>\n",
              "      <td>40.84375</td>\n",
              "      <td>-73.8750</td>\n",
              "      <td>0</td>\n",
              "      <td>4</td>\n",
              "      <td>13</td>\n",
              "      <td>12</td>\n",
              "      <td>0</td>\n",
              "    </tr>\n",
              "  </tbody>\n",
              "</table>\n",
              "</div>\n",
              "      <button class=\"colab-df-convert\" onclick=\"convertToInteractive('df-1b064bd4-a614-433a-8af3-130566994647')\"\n",
              "              title=\"Convert this dataframe to an interactive table.\"\n",
              "              style=\"display:none;\">\n",
              "        \n",
              "  <svg xmlns=\"http://www.w3.org/2000/svg\" height=\"24px\"viewBox=\"0 0 24 24\"\n",
              "       width=\"24px\">\n",
              "    <path d=\"M0 0h24v24H0V0z\" fill=\"none\"/>\n",
              "    <path d=\"M18.56 5.44l.94 2.06.94-2.06 2.06-.94-2.06-.94-.94-2.06-.94 2.06-2.06.94zm-11 1L8.5 8.5l.94-2.06 2.06-.94-2.06-.94L8.5 2.5l-.94 2.06-2.06.94zm10 10l.94 2.06.94-2.06 2.06-.94-2.06-.94-.94-2.06-.94 2.06-2.06.94z\"/><path d=\"M17.41 7.96l-1.37-1.37c-.4-.4-.92-.59-1.43-.59-.52 0-1.04.2-1.43.59L10.3 9.45l-7.72 7.72c-.78.78-.78 2.05 0 2.83L4 21.41c.39.39.9.59 1.41.59.51 0 1.02-.2 1.41-.59l7.78-7.78 2.81-2.81c.8-.78.8-2.07 0-2.86zM5.41 20L4 18.59l7.72-7.72 1.47 1.35L5.41 20z\"/>\n",
              "  </svg>\n",
              "      </button>\n",
              "      \n",
              "  <style>\n",
              "    .colab-df-container {\n",
              "      display:flex;\n",
              "      flex-wrap:wrap;\n",
              "      gap: 12px;\n",
              "    }\n",
              "\n",
              "    .colab-df-convert {\n",
              "      background-color: #E8F0FE;\n",
              "      border: none;\n",
              "      border-radius: 50%;\n",
              "      cursor: pointer;\n",
              "      display: none;\n",
              "      fill: #1967D2;\n",
              "      height: 32px;\n",
              "      padding: 0 0 0 0;\n",
              "      width: 32px;\n",
              "    }\n",
              "\n",
              "    .colab-df-convert:hover {\n",
              "      background-color: #E2EBFA;\n",
              "      box-shadow: 0px 1px 2px rgba(60, 64, 67, 0.3), 0px 1px 3px 1px rgba(60, 64, 67, 0.15);\n",
              "      fill: #174EA6;\n",
              "    }\n",
              "\n",
              "    [theme=dark] .colab-df-convert {\n",
              "      background-color: #3B4455;\n",
              "      fill: #D2E3FC;\n",
              "    }\n",
              "\n",
              "    [theme=dark] .colab-df-convert:hover {\n",
              "      background-color: #434B5C;\n",
              "      box-shadow: 0px 1px 3px 1px rgba(0, 0, 0, 0.15);\n",
              "      filter: drop-shadow(0px 1px 2px rgba(0, 0, 0, 0.3));\n",
              "      fill: #FFFFFF;\n",
              "    }\n",
              "  </style>\n",
              "\n",
              "      <script>\n",
              "        const buttonEl =\n",
              "          document.querySelector('#df-1b064bd4-a614-433a-8af3-130566994647 button.colab-df-convert');\n",
              "        buttonEl.style.display =\n",
              "          google.colab.kernel.accessAllowed ? 'block' : 'none';\n",
              "\n",
              "        async function convertToInteractive(key) {\n",
              "          const element = document.querySelector('#df-1b064bd4-a614-433a-8af3-130566994647');\n",
              "          const dataTable =\n",
              "            await google.colab.kernel.invokeFunction('convertToInteractive',\n",
              "                                                     [key], {});\n",
              "          if (!dataTable) return;\n",
              "\n",
              "          const docLinkHtml = 'Like what you see? Visit the ' +\n",
              "            '<a target=\"_blank\" href=https://colab.research.google.com/notebooks/data_table.ipynb>data table notebook</a>'\n",
              "            + ' to learn more about interactive tables.';\n",
              "          element.innerHTML = '';\n",
              "          dataTable['output_type'] = 'display_data';\n",
              "          await google.colab.output.renderOutput(dataTable, element);\n",
              "          const docLink = document.createElement('div');\n",
              "          docLink.innerHTML = docLinkHtml;\n",
              "          element.appendChild(docLink);\n",
              "        }\n",
              "      </script>\n",
              "    </div>\n",
              "  </div>\n",
              "  "
            ]
          },
          "metadata": {},
          "execution_count": 66
        }
      ],
      "source": [
        "df.head()"
      ]
    },
    {
      "cell_type": "code",
      "execution_count": 67,
      "metadata": {
        "colab": {
          "base_uri": "https://localhost:8080/"
        },
        "id": "9g9vG0KoJ888",
        "outputId": "8c73667c-41eb-4f5b-f3b9-08d3491c1712"
      },
      "outputs": [
        {
          "output_type": "execute_result",
          "data": {
            "text/plain": [
              "['M', 'F', 'D', 'E']"
            ]
          },
          "metadata": {},
          "execution_count": 67
        }
      ],
      "source": [
        "(df.VIC_SEX.unique().tolist())"
      ]
    },
    {
      "cell_type": "code",
      "execution_count": 68,
      "metadata": {
        "colab": {
          "base_uri": "https://localhost:8080/"
        },
        "id": "t8QEk9gzJ889",
        "outputId": "b5188da5-1f9e-4f4f-dbe1-253218baa37b"
      },
      "outputs": [
        {
          "output_type": "execute_result",
          "data": {
            "text/plain": [
              "['ASIAN / PACIFIC ISLANDER',\n",
              " 'WHITE',\n",
              " 'BLACK',\n",
              " 'BLACK HISPANIC',\n",
              " 'WHITE HISPANIC',\n",
              " 'UNKNOWN',\n",
              " 'AMERICAN INDIAN/ALASKAN NATIVE',\n",
              " 'OTHER']"
            ]
          },
          "metadata": {},
          "execution_count": 68
        }
      ],
      "source": [
        "(df.VIC_RACE.unique().tolist())"
      ]
    },
    {
      "cell_type": "code",
      "execution_count": 70,
      "metadata": {
        "id": "uWWzQ4w2J889"
      },
      "outputs": [],
      "source": [
        "df = df.replace(to_replace =[\"ASIAN / PACIFIC ISLANDER\"], value = 0)\n",
        "df = df.replace(to_replace =[\"WHITE\"], value = 1)\n",
        "df = df.replace(to_replace =[\"BLACK\"], value = 2)\n",
        "df = df.replace(to_replace =[\"BLACK HISPANIC\"], value = 3)\n",
        "df = df.replace(to_replace =[\"WHITE HISPANIC\"], value = 4)\n",
        "df = df.replace(to_replace =[\"UNKNOWN\"], value = 5)\n",
        "df = df.replace(to_replace =[\"AMERICAN INDIAN/ALASKAN NATIVE\"], value = 6)\n",
        "df = df.replace(to_replace =[\"OTHER\"], value = 7)"
      ]
    },
    {
      "cell_type": "code",
      "execution_count": 71,
      "metadata": {
        "id": "sHLIPsV6J889"
      },
      "outputs": [],
      "source": [
        "df = df.replace(to_replace =[\"M\"], value = 0)\n",
        "df = df.replace(to_replace =[\"F\"], value = 1)\n",
        "df = df.replace(to_replace =[\"D\"], value = 2)\n",
        "df = df.replace(to_replace =[\"E\"], value = 3)"
      ]
    },
    {
      "cell_type": "code",
      "execution_count": 72,
      "metadata": {
        "id": "aYRL8_9lJ88-"
      },
      "outputs": [],
      "source": [
        "df = df.replace(to_replace =[\"25-44\"], value = 2)\n",
        "df = df.replace(to_replace =[\"18-24\"], value = 1)\n",
        "df = df.replace(to_replace =[\"45-64\"], value = 3)\n",
        "df = df.replace(to_replace =[\"65+\"], value = 4)\n",
        "df = df.replace(to_replace =[\"<18\"], value = 0)"
      ]
    },
    {
      "cell_type": "code",
      "execution_count": 75,
      "metadata": {
        "id": "s4ajr_SQJ88-"
      },
      "outputs": [],
      "source": [
        "df['Latitude'] = df['Latitude'].apply(pd.to_numeric, errors='coerce')\n",
        "df['Longitude'] = df['Longitude'].apply(pd.to_numeric, errors='coerce')\n"
      ]
    },
    {
      "cell_type": "code",
      "execution_count": 76,
      "metadata": {
        "colab": {
          "base_uri": "https://localhost:8080/",
          "height": 206
        },
        "id": "S5EJRugCJ88-",
        "outputId": "d32fc84d-9a99-4f60-f3a4-d40280f77fd7"
      },
      "outputs": [
        {
          "output_type": "execute_result",
          "data": {
            "text/plain": [
              "   VIC_SEX VIC_RACE VIC_AGE_GROUP  Latitude  Longitude BORO_NM  KY_CD  hour  \\\n",
              "3        0        0             3  40.75000   -73.8750       4      2    13   \n",
              "5        1        1             1  40.68750   -73.8750       4      2    14   \n",
              "6        1        2             2  40.81250   -73.9375       3      4     1   \n",
              "8        0        1             2  40.62500   -73.9375       1      2    16   \n",
              "15       1        3             2  40.84375   -73.8750       0      4    13   \n",
              "\n",
              "    month  day_of_week  \n",
              "3       1            4  \n",
              "5       8            0  \n",
              "6       2            0  \n",
              "8       9            6  \n",
              "15     12            0  "
            ],
            "text/html": [
              "\n",
              "  <div id=\"df-acfcf3f6-e22d-4607-983e-c940256e1919\">\n",
              "    <div class=\"colab-df-container\">\n",
              "      <div>\n",
              "<style scoped>\n",
              "    .dataframe tbody tr th:only-of-type {\n",
              "        vertical-align: middle;\n",
              "    }\n",
              "\n",
              "    .dataframe tbody tr th {\n",
              "        vertical-align: top;\n",
              "    }\n",
              "\n",
              "    .dataframe thead th {\n",
              "        text-align: right;\n",
              "    }\n",
              "</style>\n",
              "<table border=\"1\" class=\"dataframe\">\n",
              "  <thead>\n",
              "    <tr style=\"text-align: right;\">\n",
              "      <th></th>\n",
              "      <th>VIC_SEX</th>\n",
              "      <th>VIC_RACE</th>\n",
              "      <th>VIC_AGE_GROUP</th>\n",
              "      <th>Latitude</th>\n",
              "      <th>Longitude</th>\n",
              "      <th>BORO_NM</th>\n",
              "      <th>KY_CD</th>\n",
              "      <th>hour</th>\n",
              "      <th>month</th>\n",
              "      <th>day_of_week</th>\n",
              "    </tr>\n",
              "  </thead>\n",
              "  <tbody>\n",
              "    <tr>\n",
              "      <th>3</th>\n",
              "      <td>0</td>\n",
              "      <td>0</td>\n",
              "      <td>3</td>\n",
              "      <td>40.75000</td>\n",
              "      <td>-73.8750</td>\n",
              "      <td>4</td>\n",
              "      <td>2</td>\n",
              "      <td>13</td>\n",
              "      <td>1</td>\n",
              "      <td>4</td>\n",
              "    </tr>\n",
              "    <tr>\n",
              "      <th>5</th>\n",
              "      <td>1</td>\n",
              "      <td>1</td>\n",
              "      <td>1</td>\n",
              "      <td>40.68750</td>\n",
              "      <td>-73.8750</td>\n",
              "      <td>4</td>\n",
              "      <td>2</td>\n",
              "      <td>14</td>\n",
              "      <td>8</td>\n",
              "      <td>0</td>\n",
              "    </tr>\n",
              "    <tr>\n",
              "      <th>6</th>\n",
              "      <td>1</td>\n",
              "      <td>2</td>\n",
              "      <td>2</td>\n",
              "      <td>40.81250</td>\n",
              "      <td>-73.9375</td>\n",
              "      <td>3</td>\n",
              "      <td>4</td>\n",
              "      <td>1</td>\n",
              "      <td>2</td>\n",
              "      <td>0</td>\n",
              "    </tr>\n",
              "    <tr>\n",
              "      <th>8</th>\n",
              "      <td>0</td>\n",
              "      <td>1</td>\n",
              "      <td>2</td>\n",
              "      <td>40.62500</td>\n",
              "      <td>-73.9375</td>\n",
              "      <td>1</td>\n",
              "      <td>2</td>\n",
              "      <td>16</td>\n",
              "      <td>9</td>\n",
              "      <td>6</td>\n",
              "    </tr>\n",
              "    <tr>\n",
              "      <th>15</th>\n",
              "      <td>1</td>\n",
              "      <td>3</td>\n",
              "      <td>2</td>\n",
              "      <td>40.84375</td>\n",
              "      <td>-73.8750</td>\n",
              "      <td>0</td>\n",
              "      <td>4</td>\n",
              "      <td>13</td>\n",
              "      <td>12</td>\n",
              "      <td>0</td>\n",
              "    </tr>\n",
              "  </tbody>\n",
              "</table>\n",
              "</div>\n",
              "      <button class=\"colab-df-convert\" onclick=\"convertToInteractive('df-acfcf3f6-e22d-4607-983e-c940256e1919')\"\n",
              "              title=\"Convert this dataframe to an interactive table.\"\n",
              "              style=\"display:none;\">\n",
              "        \n",
              "  <svg xmlns=\"http://www.w3.org/2000/svg\" height=\"24px\"viewBox=\"0 0 24 24\"\n",
              "       width=\"24px\">\n",
              "    <path d=\"M0 0h24v24H0V0z\" fill=\"none\"/>\n",
              "    <path d=\"M18.56 5.44l.94 2.06.94-2.06 2.06-.94-2.06-.94-.94-2.06-.94 2.06-2.06.94zm-11 1L8.5 8.5l.94-2.06 2.06-.94-2.06-.94L8.5 2.5l-.94 2.06-2.06.94zm10 10l.94 2.06.94-2.06 2.06-.94-2.06-.94-.94-2.06-.94 2.06-2.06.94z\"/><path d=\"M17.41 7.96l-1.37-1.37c-.4-.4-.92-.59-1.43-.59-.52 0-1.04.2-1.43.59L10.3 9.45l-7.72 7.72c-.78.78-.78 2.05 0 2.83L4 21.41c.39.39.9.59 1.41.59.51 0 1.02-.2 1.41-.59l7.78-7.78 2.81-2.81c.8-.78.8-2.07 0-2.86zM5.41 20L4 18.59l7.72-7.72 1.47 1.35L5.41 20z\"/>\n",
              "  </svg>\n",
              "      </button>\n",
              "      \n",
              "  <style>\n",
              "    .colab-df-container {\n",
              "      display:flex;\n",
              "      flex-wrap:wrap;\n",
              "      gap: 12px;\n",
              "    }\n",
              "\n",
              "    .colab-df-convert {\n",
              "      background-color: #E8F0FE;\n",
              "      border: none;\n",
              "      border-radius: 50%;\n",
              "      cursor: pointer;\n",
              "      display: none;\n",
              "      fill: #1967D2;\n",
              "      height: 32px;\n",
              "      padding: 0 0 0 0;\n",
              "      width: 32px;\n",
              "    }\n",
              "\n",
              "    .colab-df-convert:hover {\n",
              "      background-color: #E2EBFA;\n",
              "      box-shadow: 0px 1px 2px rgba(60, 64, 67, 0.3), 0px 1px 3px 1px rgba(60, 64, 67, 0.15);\n",
              "      fill: #174EA6;\n",
              "    }\n",
              "\n",
              "    [theme=dark] .colab-df-convert {\n",
              "      background-color: #3B4455;\n",
              "      fill: #D2E3FC;\n",
              "    }\n",
              "\n",
              "    [theme=dark] .colab-df-convert:hover {\n",
              "      background-color: #434B5C;\n",
              "      box-shadow: 0px 1px 3px 1px rgba(0, 0, 0, 0.15);\n",
              "      filter: drop-shadow(0px 1px 2px rgba(0, 0, 0, 0.3));\n",
              "      fill: #FFFFFF;\n",
              "    }\n",
              "  </style>\n",
              "\n",
              "      <script>\n",
              "        const buttonEl =\n",
              "          document.querySelector('#df-acfcf3f6-e22d-4607-983e-c940256e1919 button.colab-df-convert');\n",
              "        buttonEl.style.display =\n",
              "          google.colab.kernel.accessAllowed ? 'block' : 'none';\n",
              "\n",
              "        async function convertToInteractive(key) {\n",
              "          const element = document.querySelector('#df-acfcf3f6-e22d-4607-983e-c940256e1919');\n",
              "          const dataTable =\n",
              "            await google.colab.kernel.invokeFunction('convertToInteractive',\n",
              "                                                     [key], {});\n",
              "          if (!dataTable) return;\n",
              "\n",
              "          const docLinkHtml = 'Like what you see? Visit the ' +\n",
              "            '<a target=\"_blank\" href=https://colab.research.google.com/notebooks/data_table.ipynb>data table notebook</a>'\n",
              "            + ' to learn more about interactive tables.';\n",
              "          element.innerHTML = '';\n",
              "          dataTable['output_type'] = 'display_data';\n",
              "          await google.colab.output.renderOutput(dataTable, element);\n",
              "          const docLink = document.createElement('div');\n",
              "          docLink.innerHTML = docLinkHtml;\n",
              "          element.appendChild(docLink);\n",
              "        }\n",
              "      </script>\n",
              "    </div>\n",
              "  </div>\n",
              "  "
            ]
          },
          "metadata": {},
          "execution_count": 76
        }
      ],
      "source": [
        "df.head()"
      ]
    },
    {
      "cell_type": "code",
      "execution_count": 77,
      "metadata": {
        "colab": {
          "base_uri": "https://localhost:8080/"
        },
        "id": "3t4Dd3UGILmo",
        "outputId": "9c468476-c5da-4ada-b49d-2d32cb86c99b"
      },
      "outputs": [
        {
          "output_type": "execute_result",
          "data": {
            "text/plain": [
              "[1, 8, 2, 9, 12, 5, 6, 10, 7, 4, 3, 11]"
            ]
          },
          "metadata": {},
          "execution_count": 77
        }
      ],
      "source": [
        "(df.month.unique().tolist())"
      ]
    },
    {
      "cell_type": "code",
      "execution_count": 78,
      "metadata": {
        "colab": {
          "base_uri": "https://localhost:8080/"
        },
        "id": "CdHeOoOFJ88_",
        "outputId": "bfb76d1b-eeac-478a-d8b5-f65889e089f4"
      },
      "outputs": [
        {
          "output_type": "stream",
          "name": "stdout",
          "text": [
            "[2 2 4 ... 2 4 4]\n",
            "['VIC_SEX', 'VIC_RACE', 'VIC_AGE_GROUP', 'Latitude', 'Longitude', 'BORO_NM', 'hour', 'month', 'day_of_week']\n"
          ]
        }
      ],
      "source": [
        "# Labels are the values we want to predict\n",
        "labels = np.array(df['KY_CD'])\n",
        "\n",
        "# Remove the crimecode from the dataframe to leave us with just the predictive features\n",
        "features= df.drop('KY_CD', axis = 1)\n",
        "\n",
        "# Save feature names for later use\n",
        "feature_list = list(features.columns)\n",
        "\n",
        "# Convert the features dataframe to a numpy array\n",
        "features = np.array(features)\n",
        "\n",
        "print(labels)\n",
        "print(feature_list)"
      ]
    },
    {
      "cell_type": "code",
      "execution_count": 79,
      "metadata": {
        "id": "3KPJvYQhJ88_"
      },
      "outputs": [],
      "source": [
        "from sklearn.model_selection import train_test_split\n",
        "\n",
        "# Split the data into training and testing sets\n",
        "train_features, test_features, train_labels, test_labels = train_test_split(features, labels, test_size = 0.20, random_state = 42)"
      ]
    },
    {
      "cell_type": "code",
      "execution_count": 80,
      "metadata": {
        "colab": {
          "base_uri": "https://localhost:8080/"
        },
        "id": "G5W6TH2sJ89A",
        "outputId": "35f9b806-c88e-4512-fae0-52f516619e3b"
      },
      "outputs": [
        {
          "output_type": "stream",
          "name": "stdout",
          "text": [
            "Training Features Shape: (2607392, 9)\n",
            "Training Labels Shape: (2607392,)\n",
            "Testing Features Shape: (651848, 9)\n",
            "Testing Labels Shape: (651848,)\n"
          ]
        }
      ],
      "source": [
        "print('Training Features Shape:', train_features.shape)\n",
        "print('Training Labels Shape:', train_labels.shape)\n",
        "print('Testing Features Shape:', test_features.shape)\n",
        "print('Testing Labels Shape:', test_labels.shape)\n"
      ]
    },
    {
      "cell_type": "code",
      "execution_count": 81,
      "metadata": {
        "colab": {
          "base_uri": "https://localhost:8080/",
          "height": 89
        },
        "id": "z-pVEdPUM9NX",
        "outputId": "08c779c4-2949-4463-e325-d65672621294"
      },
      "outputs": [
        {
          "output_type": "execute_result",
          "data": {
            "text/plain": [
              "\"# Get numerical feature importances\\nimportances = list(rf.feature_importances_)\\n# List of tuples with variable and importance\\nfeature_importances = [(feature, round(importance, 2)) for feature, importance in zip(feature_list, importances)]\\n# Sort the feature importances by most important first\\nfeature_importances = sorted(feature_importances, key = lambda x: x[1], reverse = True)\\n# Print out the feature and importances \\n[print('Variable: {:20} Importance: {}'.format(*pair)) for pair in feature_importances];\""
            ],
            "application/vnd.google.colaboratory.intrinsic+json": {
              "type": "string"
            }
          },
          "metadata": {},
          "execution_count": 81
        }
      ],
      "source": [
        "# Get numerical feature importances\n",
        "importances = list(rf.feature_importances_)\n",
        "# List of tuples with variable and importance\n",
        "feature_importances = [(feature, round(importance, 2)) for feature, importance in zip(feature_list, importances)]\n",
        "# Sort the feature importances by most important first\n",
        "feature_importances = sorted(feature_importances, key = lambda x: x[1], reverse = True)\n",
        "# Print out the feature and importances \n",
        "[print('Variable: {:20} Importance: {}'.format(*pair)) for pair in feature_importances];"
      ]
    },
    {
      "cell_type": "code",
      "execution_count": 82,
      "metadata": {
        "colab": {
          "base_uri": "https://localhost:8080/",
          "height": 107
        },
        "id": "KNZPXlvQNB_b",
        "outputId": "ffca9e0d-1e64-4e8d-a1c3-2f898a9b8f71"
      },
      "outputs": [
        {
          "output_type": "execute_result",
          "data": {
            "text/plain": [
              "\"rf_most_important = RandomForestClassifier(n_estimators=20)\\n# Extract the two most important features\\nimportant_indices = [feature_list.index('month'), feature_list.index('hour')]\\ntrain_important = train_features[:, important_indices]\\ntest_important = test_features[:, important_indices]\\n# Train the random forest\\nrf_most_important.fit(train_important, train_labels)\\n# Make predictions and determine the error\\npredictions = rf_most_important.predict(test_important)\\nerrors = abs(predictions - test_labels)\\n# Display the performance metrics\\nprint('Mean Absolute Error:', round(np.mean(errors), 2), 'degrees.')\\nmape = np.mean(100 * (errors / test_labels))\\naccuracy = 100 - mape\\nprint('Accuracy:', round(accuracy, 2), '%.')\""
            ],
            "application/vnd.google.colaboratory.intrinsic+json": {
              "type": "string"
            }
          },
          "metadata": {},
          "execution_count": 82
        }
      ],
      "source": [
        "rf_most_important = RandomForestClassifier(n_estimators=20)\n",
        "# Extract the two most important features\n",
        "important_indices = [feature_list.index('month'), feature_list.index('hour')]\n",
        "train_important = train_features[:, important_indices]\n",
        "test_important = test_features[:, important_indices]\n",
        "# Train the random forest\n",
        "rf_most_important.fit(train_important, train_labels)\n",
        "# Make predictions and determine the error\n",
        "predictions = rf_most_important.predict(test_important)\n",
        "errors = abs(predictions - test_labels)\n",
        "# Display the performance metrics\n",
        "print('Mean Absolute Error:', round(np.mean(errors), 2), 'degrees.')\n",
        "mape = np.mean(100 * (errors / test_labels))\n",
        "accuracy = 100 - mape\n",
        "print('Accuracy:', round(accuracy, 2), '%.')"
      ]
    },
    {
      "cell_type": "code",
      "execution_count": 83,
      "metadata": {
        "id": "RyUCUGKgNE1i",
        "colab": {
          "base_uri": "https://localhost:8080/",
          "height": 89
        },
        "outputId": "9d3a9716-dd6c-4acb-8c8e-3e2b497d5d04"
      },
      "outputs": [
        {
          "output_type": "execute_result",
          "data": {
            "text/plain": [
              "\"from sklearn.model_selection import GridSearchCV\\n# Create the parameter grid based on the results of random search \\nparam_grid = {\\n'bootstrap': [True],\\n'max_depth': [80, 90, 100, 110],\\n'max_features': [2, 3],\\n'min_samples_leaf': [3, 4, 5],\\n'min_samples_split': [8, 10, 12],\\n'n_estimators': [20, 100, 200]\\n}\\n# Create a based model\\nrf2 = RandomForestClassifier\\n# Instantiate the grid search model\\ngrid_search = GridSearchCV(estimator = rf2, param_grid = param_grid, \\ncv = 3, n_jobs = -1, verbose = 2)\""
            ],
            "application/vnd.google.colaboratory.intrinsic+json": {
              "type": "string"
            }
          },
          "metadata": {},
          "execution_count": 83
        }
      ],
      "source": [
        "from sklearn.model_selection import GridSearchCV\n",
        "# Create the parameter grid based on the results of random search \n",
        "param_grid = {\n",
        "'bootstrap': [True],\n",
        "'max_depth': [80, 90, 100, 110],\n",
        "'max_features': [2, 3],\n",
        "'min_samples_leaf': [3, 4, 5],\n",
        "'min_samples_split': [8, 10, 12],\n",
        "'n_estimators': [20, 100, 200]\n",
        "}\n",
        "# Create a based model\n",
        "rf2 = RandomForestClassifier\n",
        "# Instantiate the grid search model\n",
        "grid_search = GridSearchCV(estimator = rf2, param_grid = param_grid, \n",
        "cv = 3, n_jobs = -1, verbose = 2)"
      ]
    },
    {
      "cell_type": "code",
      "execution_count": 84,
      "metadata": {
        "colab": {
          "base_uri": "https://localhost:8080/",
          "height": 35
        },
        "id": "EgVeQShsNKFq",
        "outputId": "61dfb6f1-9aba-4353-e065-87e18b03fea8"
      },
      "outputs": [
        {
          "output_type": "execute_result",
          "data": {
            "text/plain": [
              "'# Fit the grid search to the data\\ngrid_search.fit(train_features, train_labels)\\ngrid_search.best_params_\\n'"
            ],
            "application/vnd.google.colaboratory.intrinsic+json": {
              "type": "string"
            }
          },
          "metadata": {},
          "execution_count": 84
        }
      ],
      "source": [
        "# Fit the grid search to the data\n",
        "grid_search.fit(train_features, train_labels)\n",
        "grid_search.best_params_\n"
      ]
    },
    {
      "cell_type": "code",
      "execution_count": 85,
      "metadata": {
        "colab": {
          "base_uri": "https://localhost:8080/",
          "height": 35
        },
        "id": "MRCk-Se3NSs8",
        "outputId": "a863005b-619d-4368-bbd4-d4c5806ecf90"
      },
      "outputs": [
        {
          "output_type": "execute_result",
          "data": {
            "text/plain": [
              "'best_grid = grid_search.best_estimator_\\nbest_grid'"
            ],
            "application/vnd.google.colaboratory.intrinsic+json": {
              "type": "string"
            }
          },
          "metadata": {},
          "execution_count": 85
        }
      ],
      "source": [
        "best_grid = grid_search.best_estimator_\n",
        "best_grid"
      ]
    },
    {
      "cell_type": "code",
      "execution_count": 86,
      "metadata": {
        "colab": {
          "base_uri": "https://localhost:8080/",
          "height": 35
        },
        "id": "q0ICRJHjVQ3g",
        "outputId": "3eac65f6-7dcb-4238-8dee-8af5ee0a4ca1"
      },
      "outputs": [
        {
          "output_type": "execute_result",
          "data": {
            "text/plain": [
              "'rf3 = best_grid.fit(train_features, train_labels)'"
            ],
            "application/vnd.google.colaboratory.intrinsic+json": {
              "type": "string"
            }
          },
          "metadata": {},
          "execution_count": 86
        }
      ],
      "source": [
        "rf3 = best_grid.fit(train_features, train_labels)"
      ]
    },
    {
      "cell_type": "code",
      "execution_count": 87,
      "metadata": {
        "colab": {
          "base_uri": "https://localhost:8080/",
          "height": 71
        },
        "id": "FRjfQ2L7V_07",
        "outputId": "e788c4ef-f763-4c09-893d-68ac4a71d697"
      },
      "outputs": [
        {
          "output_type": "execute_result",
          "data": {
            "text/plain": [
              "\"predictions = rf3.predict(test_features)\\n\\nerrors = abs(predictions - test_labels)\\n\\n# Display the performance metrics\\nprint('Mean Absolute Error:', round(np.mean(errors), 2), 'degrees.')\\n\\nmape = np.mean(100 * (errors / test_labels))\\naccuracy = 100 - mape\\n\\nprint('Accuracy:', round(accuracy, 2), '%.')\""
            ],
            "application/vnd.google.colaboratory.intrinsic+json": {
              "type": "string"
            }
          },
          "metadata": {},
          "execution_count": 87
        }
      ],
      "source": [
        "predictions = rf3.predict(test_features)\n",
        "\n",
        "errors = abs(predictions - test_labels)\n",
        "\n",
        "# Display the performance metrics\n",
        "print('Mean Absolute Error:', round(np.mean(errors), 2), 'degrees.')\n",
        "\n",
        "mape = np.mean(100 * (errors / test_labels))\n",
        "accuracy = 100 - mape\n",
        "\n",
        "print('Accuracy:', round(accuracy, 2), '%.')"
      ]
    },
    {
      "cell_type": "code",
      "execution_count": 88,
      "metadata": {
        "id": "AY74cZ64HdBZ"
      },
      "outputs": [],
      "source": [
        "from sklearn.ensemble import RandomForestClassifier"
      ]
    },
    {
      "cell_type": "code",
      "execution_count": 89,
      "metadata": {
        "colab": {
          "base_uri": "https://localhost:8080/",
          "height": 143
        },
        "id": "SKyNjW26dGKC",
        "outputId": "bfc65166-b928-4ad9-d756-fd9462b4f711"
      },
      "outputs": [
        {
          "output_type": "execute_result",
          "data": {
            "text/plain": [
              "\"from sklearn.model_selection import RandomizedSearchCV\\n# Number of trees in random forest\\nn_estimators = [int(x) for x in np.linspace(start = 20, stop = 200 , num = 10)]\\n# Number of features to consider at every split\\nmax_features = ['auto', 'sqrt']\\n# Maximum number of levels in tree\\nmax_depth = [int(x) for x in np.linspace(10, 110, num = 11)]\\nmax_depth.append(None)\\n# Minimum number of samples required to split a node\\nmin_samples_split = [2, 5, 10]\\n# Minimum number of samples required at each leaf node\\nmin_samples_leaf = [1, 2, 4]\\n# Method of selecting samples for training each tree\\nbootstrap = [True, False]\\n# Create the random grid\\nrandom_grid = {'n_estimators': n_estimators,\\n               'max_features': max_features,\\n               'max_depth': max_depth,\\n               'min_samples_split': min_samples_split,\\n               'min_samples_leaf': min_samples_leaf,\\n               'bootstrap': bootstrap}\\nprint(random_grid)\""
            ],
            "application/vnd.google.colaboratory.intrinsic+json": {
              "type": "string"
            }
          },
          "metadata": {},
          "execution_count": 89
        }
      ],
      "source": [
        "from sklearn.model_selection import RandomizedSearchCV\n",
        "# Number of trees in random forest\n",
        "n_estimators = [int(x) for x in np.linspace(start = 20, stop = 200 , num = 10)]\n",
        "# Number of features to consider at every split\n",
        "max_features = ['auto', 'sqrt']\n",
        "# Maximum number of levels in tree\n",
        "max_depth = [int(x) for x in np.linspace(10, 110, num = 11)]\n",
        "max_depth.append(None)\n",
        "# Minimum number of samples required to split a node\n",
        "min_samples_split = [2, 5, 10]\n",
        "# Minimum number of samples required at each leaf node\n",
        "min_samples_leaf = [1, 2, 4]\n",
        "# Method of selecting samples for training each tree\n",
        "bootstrap = [True, False]\n",
        "# Create the random grid\n",
        "random_grid = {'n_estimators': n_estimators,\n",
        "               'max_features': max_features,\n",
        "               'max_depth': max_depth,\n",
        "               'min_samples_split': min_samples_split,\n",
        "               'min_samples_leaf': min_samples_leaf,\n",
        "               'bootstrap': bootstrap}\n",
        "print(random_grid)"
      ]
    },
    {
      "cell_type": "code",
      "execution_count": 90,
      "metadata": {
        "colab": {
          "base_uri": "https://localhost:8080/",
          "height": 89
        },
        "id": "UW3COKrYWIwn",
        "outputId": "5cfce3af-e7c5-49ea-f6f2-82e7ecf06547"
      },
      "outputs": [
        {
          "output_type": "execute_result",
          "data": {
            "text/plain": [
              "'# Use the random grid to search for best hyperparameters\\n# First create the base model to tune\\nrf = RandomForestClassifier()\\n# Random search of parameters, using 3 fold cross validation, \\n# search across 100 different combinations, and use all available cores\\nrf_random = RandomizedSearchCV(estimator = rf, param_distributions = random_grid, n_iter = 100, cv = 3, verbose=2, random_state=42, n_jobs = -1)\\n# Fit the random search model\\nrf_random.fit(train_features, train_labels)'"
            ],
            "application/vnd.google.colaboratory.intrinsic+json": {
              "type": "string"
            }
          },
          "metadata": {},
          "execution_count": 90
        }
      ],
      "source": [
        "# Use the random grid to search for best hyperparameters\n",
        "# First create the base model to tune\n",
        "rf = RandomForestClassifier()\n",
        "# Random search of parameters, using 3 fold cross validation, \n",
        "# search across 100 different combinations, and use all available cores\n",
        "rf_random = RandomizedSearchCV(estimator = rf, param_distributions = random_grid, n_iter = 100, cv = 3, verbose=2, random_state=42, n_jobs = -1)\n",
        "# Fit the random search model\n",
        "rf_random.fit(train_features, train_labels)"
      ]
    },
    {
      "cell_type": "code",
      "execution_count": 91,
      "metadata": {
        "colab": {
          "base_uri": "https://localhost:8080/",
          "height": 53
        },
        "id": "H4dR3BR9dXHx",
        "outputId": "f99420a7-032a-4b01-e5a5-d657a7eeaa0d"
      },
      "outputs": [
        {
          "output_type": "execute_result",
          "data": {
            "text/plain": [
              "\"rf_random.best_params_\\nrf_random.best_params_\\n{'bootstrap': True,\\n 'max_depth': 10,\\n 'max_features': 'sqrt',\\n 'min_samples_leaf': 2,\\n 'min_samples_split': 10,\\n 'n_estimators': 100}\""
            ],
            "application/vnd.google.colaboratory.intrinsic+json": {
              "type": "string"
            }
          },
          "metadata": {},
          "execution_count": 91
        }
      ],
      "source": [
        "rf_random.best_params_\n",
        "rf_random.best_params_\n",
        "{'bootstrap': True,\n",
        " 'max_depth': 10,\n",
        " 'max_features': 'sqrt',\n",
        " 'min_samples_leaf': 2,\n",
        " 'min_samples_split': 10,\n",
        " 'n_estimators': 100}"
      ]
    },
    {
      "cell_type": "code",
      "execution_count": 92,
      "metadata": {
        "id": "7NTY2Y6IHdBa"
      },
      "outputs": [],
      "source": [
        "rf_best = RandomForestClassifier(bootstrap =  True, max_depth = 10, max_features = 'sqrt', min_samples_leaf = 2, min_samples_split = 10, n_estimators = 100)"
      ]
    },
    {
      "cell_type": "code",
      "execution_count": 93,
      "metadata": {
        "colab": {
          "base_uri": "https://localhost:8080/"
        },
        "id": "vFb6s2sHHdBa",
        "outputId": "77dcaa88-4418-497c-a236-ff46e2d819d1"
      },
      "outputs": [
        {
          "output_type": "execute_result",
          "data": {
            "text/plain": [
              "RandomForestClassifier(max_depth=10, max_features='sqrt', min_samples_leaf=2,\n",
              "                       min_samples_split=10)"
            ]
          },
          "metadata": {},
          "execution_count": 93
        }
      ],
      "source": [
        "rf_best.fit(train_features, train_labels)"
      ]
    },
    {
      "cell_type": "code",
      "execution_count": 94,
      "metadata": {
        "colab": {
          "base_uri": "https://localhost:8080/"
        },
        "id": "XSK2FwodgsCP",
        "outputId": "4ecc5c27-eb0c-4cbf-acd5-325582346524"
      },
      "outputs": [
        {
          "output_type": "stream",
          "name": "stdout",
          "text": [
            "Mean Absolute Error: 1.05 degrees.\n",
            "Accuracy: 74.65 %.\n"
          ]
        }
      ],
      "source": [
        "predictions = rf_best.predict(test_features)\n",
        "\n",
        "errors = abs(predictions - test_labels)\n",
        "\n",
        "# Display the performance metrics\n",
        "print('Mean Absolute Error:', round(np.mean(errors), 2), 'degrees.')\n",
        "\n",
        "mape = np.mean(100 * (errors / test_labels))\n",
        "accuracy = 100 - mape\n",
        "\n",
        "print('Accuracy:', round(accuracy, 2), '%.')"
      ]
    },
    {
      "cell_type": "code",
      "execution_count": 95,
      "metadata": {
        "id": "7Ese9BNFv6RV"
      },
      "outputs": [],
      "source": [
        "#feature_list"
      ]
    },
    {
      "cell_type": "code",
      "execution_count": 103,
      "metadata": {
        "colab": {
          "base_uri": "https://localhost:8080/"
        },
        "id": "Kdl-SZ67fq7I",
        "outputId": "8c3e101c-7d60-4048-ec05-344141d23e55"
      },
      "outputs": [
        {
          "output_type": "execute_result",
          "data": {
            "text/plain": [
              "list"
            ]
          },
          "metadata": {},
          "execution_count": 103
        }
      ],
      "source": [
        "Test_value = [1, 0, 4, 40.75, -73.875, 3, 1, 4, 1]\n",
        "type(Test_value)"
      ]
    },
    {
      "cell_type": "code",
      "execution_count": 104,
      "metadata": {
        "id": "-RAA6UwOg8Cg"
      },
      "outputs": [],
      "source": [
        "Test_value = np.array([1, 0, 4, 40.75, -73.875, 3, 1, 4, 1])\n"
      ]
    },
    {
      "cell_type": "code",
      "execution_count": 105,
      "metadata": {
        "colab": {
          "base_uri": "https://localhost:8080/"
        },
        "id": "iYaiRWrzhLR4",
        "outputId": "1a8380c2-ac02-4d53-b91c-7290a6bc59d5"
      },
      "outputs": [
        {
          "output_type": "execute_result",
          "data": {
            "text/plain": [
              "array([[  1.   ,   0.   ,   4.   ,  40.75 , -73.875,   3.   ,   1.   ,\n",
              "          4.   ,   1.   ]])"
            ]
          },
          "metadata": {},
          "execution_count": 105
        }
      ],
      "source": [
        "type(Test_value)\n",
        "New_value = Test_value.reshape(1, -1)\n",
        "New_value"
      ]
    },
    {
      "cell_type": "code",
      "execution_count": 106,
      "metadata": {
        "id": "BRupLY5thOg9"
      },
      "outputs": [],
      "source": [
        "test_predictions = rf_best.predict(New_value)"
      ]
    },
    {
      "cell_type": "code",
      "execution_count": 109,
      "metadata": {
        "colab": {
          "base_uri": "https://localhost:8080/"
        },
        "id": "uka8lUq3tnr7",
        "outputId": "15feb9d5-527f-446e-ad00-d3527e0ac11d"
      },
      "outputs": [
        {
          "output_type": "stream",
          "name": "stdout",
          "text": [
            "Theft\n"
          ]
        }
      ],
      "source": [
        "if test_predictions == 1:\n",
        "      print(\"Drug and Alcohol Crime\")\n",
        "elif test_predictions == 2:\n",
        "        print(\"Theft\")\n",
        "elif test_predictions == 3:\n",
        "        print(\"Sex Crime\")\n",
        "elif test_predictions == 4:\n",
        "          print(\"Assualt or Murder\")\n",
        "elif test_predictions == 5:\n",
        "          print(\"Kidnapping and other crimes against children\")\n",
        "elif test_predictions == 6:\n",
        "        print(\"City Law Violation\")\n",
        "    \n",
        " "
      ]
    },
    {
      "cell_type": "code",
      "execution_count": 110,
      "metadata": {
        "id": "w7h5vpiQ6vcF"
      },
      "outputs": [],
      "source": [
        "from sklearn.metrics import make_scorer, accuracy_score, f1_score\n",
        "from sklearn.metrics import roc_curve, auc\n",
        "from sklearn.metrics import confusion_matrix, roc_auc_score, recall_score, precision_score"
      ]
    },
    {
      "cell_type": "code",
      "execution_count": 113,
      "metadata": {
        "id": "7ugMlViJxKFH"
      },
      "outputs": [],
      "source": [
        "def report_results(model, X, y):\n",
        "    pred_proba = model.predict_proba(X)[:, 1]\n",
        "    pred = model.predict(X)        \n",
        "\n",
        "    auc = roc_auc_score(y, pred_proba)\n",
        "    acc = accuracy_score(y, pred)\n",
        "    f1 = f1_score(y, pred)\n",
        "    prec = precision_score(y, pred)\n",
        "    rec = recall_score(y, pred)\n",
        "    cm = confusion_matrix(y, pred)\n",
        "    result = {'auc': auc, 'f1': f1, 'acc': acc, 'precision': prec, 'recall': rec, 'confusion_matrix': cm}\n",
        "    return result"
      ]
    },
    {
      "cell_type": "code",
      "execution_count": 102,
      "metadata": {
        "id": "5jGWzKlOHdBc"
      },
      "outputs": [],
      "source": [
        ""
      ]
    }
  ],
  "metadata": {
    "colab": {
      "name": "Crime Prediction Using Machine Learning",
      "provenance": []
    },
    "kernelspec": {
      "display_name": "Python 3",
      "language": "python",
      "name": "python3"
    },
    "language_info": {
      "codemirror_mode": {
        "name": "ipython",
        "version": 3
      },
      "file_extension": ".py",
      "mimetype": "text/x-python",
      "name": "python",
      "nbconvert_exporter": "python",
      "pygments_lexer": "ipython3",
      "version": "3.8.5"
    }
  },
  "nbformat": 4,
  "nbformat_minor": 0
}